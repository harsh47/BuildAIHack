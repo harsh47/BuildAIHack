{
 "cells": [
  {
   "cell_type": "code",
   "execution_count": 1,
   "metadata": {
    "scrolled": true
   },
   "outputs": [
    {
     "name": "stdout",
     "output_type": "stream",
     "text": [
      "Requirement already satisfied: pandas-profiling in /opt/conda/lib/python3.9/site-packages (3.1.0)\n",
      "Requirement already satisfied: pandas!=1.0.0,!=1.0.1,!=1.0.2,!=1.1.0,>=0.25.3 in /opt/conda/lib/python3.9/site-packages (from pandas-profiling) (1.3.4)\n",
      "Requirement already satisfied: matplotlib>=3.2.0 in /opt/conda/lib/python3.9/site-packages (from pandas-profiling) (3.4.3)\n",
      "Requirement already satisfied: PyYAML>=5.0.0 in /opt/conda/lib/python3.9/site-packages (from pandas-profiling) (6.0)\n",
      "Requirement already satisfied: tqdm>=4.48.2 in /opt/conda/lib/python3.9/site-packages (from pandas-profiling) (4.62.3)\n",
      "Requirement already satisfied: visions[type_image_path]==0.7.4 in /opt/conda/lib/python3.9/site-packages (from pandas-profiling) (0.7.4)\n",
      "Requirement already satisfied: scipy>=1.4.1 in /opt/conda/lib/python3.9/site-packages (from pandas-profiling) (1.7.1)\n",
      "Requirement already satisfied: seaborn>=0.10.1 in /opt/conda/lib/python3.9/site-packages (from pandas-profiling) (0.11.2)\n",
      "Requirement already satisfied: jinja2>=2.11.1 in /opt/conda/lib/python3.9/site-packages (from pandas-profiling) (3.0.1)\n",
      "Requirement already satisfied: markupsafe~=2.0.1 in /opt/conda/lib/python3.9/site-packages (from pandas-profiling) (2.0.1)\n",
      "Requirement already satisfied: multimethod>=1.4 in /opt/conda/lib/python3.9/site-packages (from pandas-profiling) (1.6)\n",
      "Requirement already satisfied: pydantic>=1.8.1 in /opt/conda/lib/python3.9/site-packages (from pandas-profiling) (1.8.2)\n",
      "Requirement already satisfied: missingno>=0.4.2 in /opt/conda/lib/python3.9/site-packages (from pandas-profiling) (0.5.0)\n",
      "Requirement already satisfied: numpy>=1.16.0 in /opt/conda/lib/python3.9/site-packages (from pandas-profiling) (1.21.3)\n",
      "Requirement already satisfied: htmlmin>=0.1.12 in /opt/conda/lib/python3.9/site-packages (from pandas-profiling) (0.1.12)\n",
      "Requirement already satisfied: joblib~=1.0.1 in /opt/conda/lib/python3.9/site-packages (from pandas-profiling) (1.0.1)\n",
      "Requirement already satisfied: phik>=0.11.1 in /opt/conda/lib/python3.9/site-packages (from pandas-profiling) (0.12.0)\n",
      "Requirement already satisfied: tangled-up-in-unicode==0.1.0 in /opt/conda/lib/python3.9/site-packages (from pandas-profiling) (0.1.0)\n",
      "Requirement already satisfied: requests>=2.24.0 in /opt/conda/lib/python3.9/site-packages (from pandas-profiling) (2.26.0)\n",
      "Requirement already satisfied: networkx>=2.4 in /opt/conda/lib/python3.9/site-packages (from visions[type_image_path]==0.7.4->pandas-profiling) (2.6.3)\n",
      "Requirement already satisfied: attrs>=19.3.0 in /opt/conda/lib/python3.9/site-packages (from visions[type_image_path]==0.7.4->pandas-profiling) (21.2.0)\n",
      "Requirement already satisfied: imagehash in /opt/conda/lib/python3.9/site-packages (from visions[type_image_path]==0.7.4->pandas-profiling) (4.2.1)\n",
      "Requirement already satisfied: Pillow in /opt/conda/lib/python3.9/site-packages (from visions[type_image_path]==0.7.4->pandas-profiling) (8.4.0)\n",
      "Requirement already satisfied: pyparsing>=2.2.1 in /opt/conda/lib/python3.9/site-packages (from matplotlib>=3.2.0->pandas-profiling) (2.4.7)\n",
      "Requirement already satisfied: cycler>=0.10 in /opt/conda/lib/python3.9/site-packages (from matplotlib>=3.2.0->pandas-profiling) (0.11.0)\n",
      "Requirement already satisfied: kiwisolver>=1.0.1 in /opt/conda/lib/python3.9/site-packages (from matplotlib>=3.2.0->pandas-profiling) (1.3.2)\n",
      "Requirement already satisfied: python-dateutil>=2.7 in /opt/conda/lib/python3.9/site-packages (from matplotlib>=3.2.0->pandas-profiling) (2.8.2)\n",
      "Requirement already satisfied: pytz>=2017.3 in /opt/conda/lib/python3.9/site-packages (from pandas!=1.0.0,!=1.0.1,!=1.0.2,!=1.1.0,>=0.25.3->pandas-profiling) (2021.1)\n",
      "Requirement already satisfied: typing-extensions>=3.7.4.3 in /opt/conda/lib/python3.9/site-packages (from pydantic>=1.8.1->pandas-profiling) (3.10.0.2)\n",
      "Requirement already satisfied: six>=1.5 in /opt/conda/lib/python3.9/site-packages (from python-dateutil>=2.7->matplotlib>=3.2.0->pandas-profiling) (1.16.0)\n",
      "Requirement already satisfied: idna<4,>=2.5 in /opt/conda/lib/python3.9/site-packages (from requests>=2.24.0->pandas-profiling) (3.1)\n",
      "Requirement already satisfied: charset-normalizer~=2.0.0 in /opt/conda/lib/python3.9/site-packages (from requests>=2.24.0->pandas-profiling) (2.0.0)\n",
      "Requirement already satisfied: urllib3<1.27,>=1.21.1 in /opt/conda/lib/python3.9/site-packages (from requests>=2.24.0->pandas-profiling) (1.26.6)\n",
      "Requirement already satisfied: certifi>=2017.4.17 in /opt/conda/lib/python3.9/site-packages (from requests>=2.24.0->pandas-profiling) (2021.10.8)\n",
      "Requirement already satisfied: PyWavelets in /opt/conda/lib/python3.9/site-packages (from imagehash->visions[type_image_path]==0.7.4->pandas-profiling) (1.1.1)\n",
      "Note: you may need to restart the kernel to use updated packages.\n"
     ]
    }
   ],
   "source": [
    "pip install pandas-profiling"
   ]
  },
  {
   "cell_type": "code",
   "execution_count": 2,
   "id": "7f688511",
   "metadata": {},
   "outputs": [
    {
     "name": "stdout",
     "output_type": "stream",
     "text": [
      "Enabling notebook extension jupyter-js-widgets/extension...\r\n",
      "      - Validating: \u001b[32mOK\u001b[0m\r\n"
     ]
    }
   ],
   "source": [
    "!jupyter nbextension enable --py widgetsnbextension"
   ]
  },
  {
   "cell_type": "code",
   "execution_count": 3,
   "id": "fb02c0f2",
   "metadata": {},
   "outputs": [
    {
     "name": "stdout",
     "output_type": "stream",
     "text": [
      "Requirement already satisfied: ipywidgets in /opt/conda/lib/python3.9/site-packages (7.6.5)\n",
      "Requirement already satisfied: widgetsnbextension in /opt/conda/lib/python3.9/site-packages (3.5.2)\n",
      "Requirement already satisfied: pandas-profiling in /opt/conda/lib/python3.9/site-packages (3.1.0)\n",
      "Requirement already satisfied: ipykernel>=4.5.1 in /opt/conda/lib/python3.9/site-packages (from ipywidgets) (6.2.0)\n",
      "Requirement already satisfied: nbformat>=4.2.0 in /opt/conda/lib/python3.9/site-packages (from ipywidgets) (5.1.3)\n",
      "Requirement already satisfied: ipython>=4.0.0 in /opt/conda/lib/python3.9/site-packages (from ipywidgets) (7.26.0)\n",
      "Requirement already satisfied: traitlets>=4.3.1 in /opt/conda/lib/python3.9/site-packages (from ipywidgets) (5.0.5)\n",
      "Requirement already satisfied: jupyterlab-widgets>=1.0.0 in /opt/conda/lib/python3.9/site-packages (from ipywidgets) (1.0.2)\n",
      "Requirement already satisfied: ipython-genutils~=0.2.0 in /opt/conda/lib/python3.9/site-packages (from ipywidgets) (0.2.0)\n",
      "Requirement already satisfied: notebook>=4.4.1 in /opt/conda/lib/python3.9/site-packages (from widgetsnbextension) (6.4.3)\n",
      "Requirement already satisfied: requests>=2.24.0 in /opt/conda/lib/python3.9/site-packages (from pandas-profiling) (2.26.0)\n",
      "Requirement already satisfied: seaborn>=0.10.1 in /opt/conda/lib/python3.9/site-packages (from pandas-profiling) (0.11.2)\n",
      "Requirement already satisfied: phik>=0.11.1 in /opt/conda/lib/python3.9/site-packages (from pandas-profiling) (0.12.0)\n",
      "Requirement already satisfied: pydantic>=1.8.1 in /opt/conda/lib/python3.9/site-packages (from pandas-profiling) (1.8.2)\n",
      "Requirement already satisfied: joblib~=1.0.1 in /opt/conda/lib/python3.9/site-packages (from pandas-profiling) (1.0.1)\n",
      "Requirement already satisfied: multimethod>=1.4 in /opt/conda/lib/python3.9/site-packages (from pandas-profiling) (1.6)\n",
      "Requirement already satisfied: scipy>=1.4.1 in /opt/conda/lib/python3.9/site-packages (from pandas-profiling) (1.7.1)\n",
      "Requirement already satisfied: matplotlib>=3.2.0 in /opt/conda/lib/python3.9/site-packages (from pandas-profiling) (3.4.3)\n",
      "Requirement already satisfied: numpy>=1.16.0 in /opt/conda/lib/python3.9/site-packages (from pandas-profiling) (1.21.3)\n",
      "Requirement already satisfied: missingno>=0.4.2 in /opt/conda/lib/python3.9/site-packages (from pandas-profiling) (0.5.0)\n",
      "Requirement already satisfied: pandas!=1.0.0,!=1.0.1,!=1.0.2,!=1.1.0,>=0.25.3 in /opt/conda/lib/python3.9/site-packages (from pandas-profiling) (1.3.4)\n",
      "Requirement already satisfied: PyYAML>=5.0.0 in /opt/conda/lib/python3.9/site-packages (from pandas-profiling) (6.0)\n",
      "Requirement already satisfied: tqdm>=4.48.2 in /opt/conda/lib/python3.9/site-packages (from pandas-profiling) (4.62.3)\n",
      "Requirement already satisfied: markupsafe~=2.0.1 in /opt/conda/lib/python3.9/site-packages (from pandas-profiling) (2.0.1)\n",
      "Requirement already satisfied: visions[type_image_path]==0.7.4 in /opt/conda/lib/python3.9/site-packages (from pandas-profiling) (0.7.4)\n",
      "Requirement already satisfied: tangled-up-in-unicode==0.1.0 in /opt/conda/lib/python3.9/site-packages (from pandas-profiling) (0.1.0)\n",
      "Requirement already satisfied: jinja2>=2.11.1 in /opt/conda/lib/python3.9/site-packages (from pandas-profiling) (3.0.1)\n",
      "Requirement already satisfied: htmlmin>=0.1.12 in /opt/conda/lib/python3.9/site-packages (from pandas-profiling) (0.1.12)\n",
      "Requirement already satisfied: attrs>=19.3.0 in /opt/conda/lib/python3.9/site-packages (from visions[type_image_path]==0.7.4->pandas-profiling) (21.2.0)\n",
      "Requirement already satisfied: networkx>=2.4 in /opt/conda/lib/python3.9/site-packages (from visions[type_image_path]==0.7.4->pandas-profiling) (2.6.3)\n",
      "Requirement already satisfied: Pillow in /opt/conda/lib/python3.9/site-packages (from visions[type_image_path]==0.7.4->pandas-profiling) (8.4.0)\n",
      "Requirement already satisfied: imagehash in /opt/conda/lib/python3.9/site-packages (from visions[type_image_path]==0.7.4->pandas-profiling) (4.2.1)\n",
      "Requirement already satisfied: matplotlib-inline<0.2.0,>=0.1.0 in /opt/conda/lib/python3.9/site-packages (from ipykernel>=4.5.1->ipywidgets) (0.1.2)\n",
      "Requirement already satisfied: debugpy<2.0,>=1.0.0 in /opt/conda/lib/python3.9/site-packages (from ipykernel>=4.5.1->ipywidgets) (1.4.1)\n",
      "Requirement already satisfied: jupyter-client<8.0 in /opt/conda/lib/python3.9/site-packages (from ipykernel>=4.5.1->ipywidgets) (6.1.12)\n",
      "Requirement already satisfied: tornado<7.0,>=4.2 in /opt/conda/lib/python3.9/site-packages (from ipykernel>=4.5.1->ipywidgets) (6.1)\n",
      "Requirement already satisfied: setuptools>=18.5 in /opt/conda/lib/python3.9/site-packages (from ipython>=4.0.0->ipywidgets) (57.4.0)\n",
      "Requirement already satisfied: backcall in /opt/conda/lib/python3.9/site-packages (from ipython>=4.0.0->ipywidgets) (0.2.0)\n",
      "Requirement already satisfied: pexpect>4.3 in /opt/conda/lib/python3.9/site-packages (from ipython>=4.0.0->ipywidgets) (4.8.0)\n",
      "Requirement already satisfied: decorator in /opt/conda/lib/python3.9/site-packages (from ipython>=4.0.0->ipywidgets) (5.0.9)\n",
      "Requirement already satisfied: prompt-toolkit!=3.0.0,!=3.0.1,<3.1.0,>=2.0.0 in /opt/conda/lib/python3.9/site-packages (from ipython>=4.0.0->ipywidgets) (3.0.19)\n",
      "Requirement already satisfied: pygments in /opt/conda/lib/python3.9/site-packages (from ipython>=4.0.0->ipywidgets) (2.10.0)\n",
      "Requirement already satisfied: pickleshare in /opt/conda/lib/python3.9/site-packages (from ipython>=4.0.0->ipywidgets) (0.7.5)\n",
      "Requirement already satisfied: jedi>=0.16 in /opt/conda/lib/python3.9/site-packages (from ipython>=4.0.0->ipywidgets) (0.18.0)\n",
      "Requirement already satisfied: parso<0.9.0,>=0.8.0 in /opt/conda/lib/python3.9/site-packages (from jedi>=0.16->ipython>=4.0.0->ipywidgets) (0.8.2)\n",
      "Requirement already satisfied: pyzmq>=13 in /opt/conda/lib/python3.9/site-packages (from jupyter-client<8.0->ipykernel>=4.5.1->ipywidgets) (22.2.1)\n",
      "Requirement already satisfied: python-dateutil>=2.1 in /opt/conda/lib/python3.9/site-packages (from jupyter-client<8.0->ipykernel>=4.5.1->ipywidgets) (2.8.2)\n",
      "Requirement already satisfied: jupyter-core>=4.6.0 in /opt/conda/lib/python3.9/site-packages (from jupyter-client<8.0->ipykernel>=4.5.1->ipywidgets) (4.7.1)\n",
      "Requirement already satisfied: kiwisolver>=1.0.1 in /opt/conda/lib/python3.9/site-packages (from matplotlib>=3.2.0->pandas-profiling) (1.3.2)\n",
      "Requirement already satisfied: pyparsing>=2.2.1 in /opt/conda/lib/python3.9/site-packages (from matplotlib>=3.2.0->pandas-profiling) (2.4.7)\n",
      "Requirement already satisfied: cycler>=0.10 in /opt/conda/lib/python3.9/site-packages (from matplotlib>=3.2.0->pandas-profiling) (0.11.0)\n",
      "Requirement already satisfied: jsonschema!=2.5.0,>=2.4 in /opt/conda/lib/python3.9/site-packages (from nbformat>=4.2.0->ipywidgets) (3.2.0)\n",
      "Requirement already satisfied: six>=1.11.0 in /opt/conda/lib/python3.9/site-packages (from jsonschema!=2.5.0,>=2.4->nbformat>=4.2.0->ipywidgets) (1.16.0)\n",
      "Requirement already satisfied: pyrsistent>=0.14.0 in /opt/conda/lib/python3.9/site-packages (from jsonschema!=2.5.0,>=2.4->nbformat>=4.2.0->ipywidgets) (0.17.3)\n",
      "Requirement already satisfied: argon2-cffi in /opt/conda/lib/python3.9/site-packages (from notebook>=4.4.1->widgetsnbextension) (20.1.0)\n",
      "Requirement already satisfied: nbconvert in /opt/conda/lib/python3.9/site-packages (from notebook>=4.4.1->widgetsnbextension) (6.1.0)\n",
      "Requirement already satisfied: prometheus-client in /opt/conda/lib/python3.9/site-packages (from notebook>=4.4.1->widgetsnbextension) (0.11.0)\n",
      "Requirement already satisfied: Send2Trash>=1.5.0 in /opt/conda/lib/python3.9/site-packages (from notebook>=4.4.1->widgetsnbextension) (1.8.0)\n",
      "Requirement already satisfied: terminado>=0.8.3 in /opt/conda/lib/python3.9/site-packages (from notebook>=4.4.1->widgetsnbextension) (0.11.1)\n",
      "Requirement already satisfied: pytz>=2017.3 in /opt/conda/lib/python3.9/site-packages (from pandas!=1.0.0,!=1.0.1,!=1.0.2,!=1.1.0,>=0.25.3->pandas-profiling) (2021.1)\n",
      "Requirement already satisfied: ptyprocess>=0.5 in /opt/conda/lib/python3.9/site-packages (from pexpect>4.3->ipython>=4.0.0->ipywidgets) (0.7.0)\n",
      "Requirement already satisfied: wcwidth in /opt/conda/lib/python3.9/site-packages (from prompt-toolkit!=3.0.0,!=3.0.1,<3.1.0,>=2.0.0->ipython>=4.0.0->ipywidgets) (0.2.5)\n",
      "Requirement already satisfied: typing-extensions>=3.7.4.3 in /opt/conda/lib/python3.9/site-packages (from pydantic>=1.8.1->pandas-profiling) (3.10.0.2)\n"
     ]
    },
    {
     "name": "stdout",
     "output_type": "stream",
     "text": [
      "Requirement already satisfied: urllib3<1.27,>=1.21.1 in /opt/conda/lib/python3.9/site-packages (from requests>=2.24.0->pandas-profiling) (1.26.6)\n",
      "Requirement already satisfied: charset-normalizer~=2.0.0 in /opt/conda/lib/python3.9/site-packages (from requests>=2.24.0->pandas-profiling) (2.0.0)\n",
      "Requirement already satisfied: idna<4,>=2.5 in /opt/conda/lib/python3.9/site-packages (from requests>=2.24.0->pandas-profiling) (3.1)\n",
      "Requirement already satisfied: certifi>=2017.4.17 in /opt/conda/lib/python3.9/site-packages (from requests>=2.24.0->pandas-profiling) (2021.10.8)\n",
      "Requirement already satisfied: cffi>=1.0.0 in /opt/conda/lib/python3.9/site-packages (from argon2-cffi->notebook>=4.4.1->widgetsnbextension) (1.14.6)\n",
      "Requirement already satisfied: pycparser in /opt/conda/lib/python3.9/site-packages (from cffi>=1.0.0->argon2-cffi->notebook>=4.4.1->widgetsnbextension) (2.20)\n",
      "Requirement already satisfied: PyWavelets in /opt/conda/lib/python3.9/site-packages (from imagehash->visions[type_image_path]==0.7.4->pandas-profiling) (1.1.1)\n",
      "Requirement already satisfied: pandocfilters>=1.4.1 in /opt/conda/lib/python3.9/site-packages (from nbconvert->notebook>=4.4.1->widgetsnbextension) (1.4.2)\n",
      "Requirement already satisfied: jupyterlab-pygments in /opt/conda/lib/python3.9/site-packages (from nbconvert->notebook>=4.4.1->widgetsnbextension) (0.1.2)\n",
      "Requirement already satisfied: testpath in /opt/conda/lib/python3.9/site-packages (from nbconvert->notebook>=4.4.1->widgetsnbextension) (0.5.0)\n",
      "Requirement already satisfied: entrypoints>=0.2.2 in /opt/conda/lib/python3.9/site-packages (from nbconvert->notebook>=4.4.1->widgetsnbextension) (0.3)\n",
      "Requirement already satisfied: mistune<2,>=0.8.1 in /opt/conda/lib/python3.9/site-packages (from nbconvert->notebook>=4.4.1->widgetsnbextension) (0.8.4)\n",
      "Requirement already satisfied: bleach in /opt/conda/lib/python3.9/site-packages (from nbconvert->notebook>=4.4.1->widgetsnbextension) (4.0.0)\n",
      "Requirement already satisfied: defusedxml in /opt/conda/lib/python3.9/site-packages (from nbconvert->notebook>=4.4.1->widgetsnbextension) (0.7.1)\n",
      "Requirement already satisfied: nbclient<0.6.0,>=0.5.0 in /opt/conda/lib/python3.9/site-packages (from nbconvert->notebook>=4.4.1->widgetsnbextension) (0.5.4)\n",
      "Requirement already satisfied: nest-asyncio in /opt/conda/lib/python3.9/site-packages (from nbclient<0.6.0,>=0.5.0->nbconvert->notebook>=4.4.1->widgetsnbextension) (1.5.1)\n",
      "Requirement already satisfied: packaging in /opt/conda/lib/python3.9/site-packages (from bleach->nbconvert->notebook>=4.4.1->widgetsnbextension) (21.0)\n",
      "Requirement already satisfied: webencodings in /opt/conda/lib/python3.9/site-packages (from bleach->nbconvert->notebook>=4.4.1->widgetsnbextension) (0.5.1)\n",
      "Note: you may need to restart the kernel to use updated packages.\n"
     ]
    }
   ],
   "source": [
    "pip install ipywidgets widgetsnbextension pandas-profiling"
   ]
  },
  {
   "cell_type": "code",
   "execution_count": null,
   "metadata": {},
   "outputs": [],
   "source": []
  },
  {
   "cell_type": "code",
   "execution_count": 4,
   "metadata": {
    "scrolled": true
   },
   "outputs": [
    {
     "name": "stdout",
     "output_type": "stream",
     "text": [
      "Requirement already satisfied: plotly-express in /opt/conda/lib/python3.9/site-packages (0.4.1)\n",
      "Requirement already satisfied: patsy>=0.5 in /opt/conda/lib/python3.9/site-packages (from plotly-express) (0.5.2)\n",
      "Requirement already satisfied: numpy>=1.11 in /opt/conda/lib/python3.9/site-packages (from plotly-express) (1.21.3)\n",
      "Requirement already satisfied: statsmodels>=0.9.0 in /opt/conda/lib/python3.9/site-packages (from plotly-express) (0.13.0)\n",
      "Requirement already satisfied: pandas>=0.20.0 in /opt/conda/lib/python3.9/site-packages (from plotly-express) (1.3.4)\n",
      "Requirement already satisfied: plotly>=4.1.0 in /opt/conda/lib/python3.9/site-packages (from plotly-express) (5.3.1)\n",
      "Requirement already satisfied: scipy>=0.18 in /opt/conda/lib/python3.9/site-packages (from plotly-express) (1.7.1)\n",
      "Requirement already satisfied: pytz>=2017.3 in /opt/conda/lib/python3.9/site-packages (from pandas>=0.20.0->plotly-express) (2021.1)\n",
      "Requirement already satisfied: python-dateutil>=2.7.3 in /opt/conda/lib/python3.9/site-packages (from pandas>=0.20.0->plotly-express) (2.8.2)\n",
      "Requirement already satisfied: six in /opt/conda/lib/python3.9/site-packages (from patsy>=0.5->plotly-express) (1.16.0)\n",
      "Requirement already satisfied: tenacity>=6.2.0 in /opt/conda/lib/python3.9/site-packages (from plotly>=4.1.0->plotly-express) (8.0.1)\n",
      "Note: you may need to restart the kernel to use updated packages.\n"
     ]
    }
   ],
   "source": [
    "pip install plotly-express"
   ]
  },
  {
   "cell_type": "code",
   "execution_count": 5,
   "metadata": {
    "scrolled": true
   },
   "outputs": [
    {
     "name": "stdout",
     "output_type": "stream",
     "text": [
      "Requirement already satisfied: scikit-learn in /opt/conda/lib/python3.9/site-packages (1.0.1)\n",
      "Requirement already satisfied: scipy in /opt/conda/lib/python3.9/site-packages (1.7.1)\n",
      "Requirement already satisfied: matplotlib in /opt/conda/lib/python3.9/site-packages (3.4.3)\n",
      "Requirement already satisfied: joblib>=0.11 in /opt/conda/lib/python3.9/site-packages (from scikit-learn) (1.0.1)\n",
      "Requirement already satisfied: numpy>=1.14.6 in /opt/conda/lib/python3.9/site-packages (from scikit-learn) (1.21.3)\n",
      "Requirement already satisfied: threadpoolctl>=2.0.0 in /opt/conda/lib/python3.9/site-packages (from scikit-learn) (3.0.0)\n",
      "Requirement already satisfied: python-dateutil>=2.7 in /opt/conda/lib/python3.9/site-packages (from matplotlib) (2.8.2)\n",
      "Requirement already satisfied: cycler>=0.10 in /opt/conda/lib/python3.9/site-packages (from matplotlib) (0.11.0)\n",
      "Requirement already satisfied: kiwisolver>=1.0.1 in /opt/conda/lib/python3.9/site-packages (from matplotlib) (1.3.2)\n",
      "Requirement already satisfied: pillow>=6.2.0 in /opt/conda/lib/python3.9/site-packages (from matplotlib) (8.4.0)\n",
      "Requirement already satisfied: pyparsing>=2.2.1 in /opt/conda/lib/python3.9/site-packages (from matplotlib) (2.4.7)\n",
      "Requirement already satisfied: six>=1.5 in /opt/conda/lib/python3.9/site-packages (from python-dateutil>=2.7->matplotlib) (1.16.0)\n",
      "Note: you may need to restart the kernel to use updated packages.\n"
     ]
    }
   ],
   "source": [
    "pip install -U scikit-learn scipy matplotlib"
   ]
  },
  {
   "cell_type": "code",
   "execution_count": 6,
   "metadata": {
    "scrolled": true
   },
   "outputs": [
    {
     "name": "stdout",
     "output_type": "stream",
     "text": [
      "Requirement already satisfied: geopandas in /opt/conda/lib/python3.9/site-packages (0.10.2)\n",
      "Requirement already satisfied: pandas>=0.25.0 in /opt/conda/lib/python3.9/site-packages (from geopandas) (1.3.4)\n",
      "Requirement already satisfied: shapely>=1.6 in /opt/conda/lib/python3.9/site-packages (from geopandas) (1.8.0)\n",
      "Requirement already satisfied: fiona>=1.8 in /opt/conda/lib/python3.9/site-packages (from geopandas) (1.8.20)\n",
      "Requirement already satisfied: pyproj>=2.2.0 in /opt/conda/lib/python3.9/site-packages (from geopandas) (3.2.1)\n",
      "Requirement already satisfied: six>=1.7 in /opt/conda/lib/python3.9/site-packages (from fiona>=1.8->geopandas) (1.16.0)\n",
      "Requirement already satisfied: click-plugins>=1.0 in /opt/conda/lib/python3.9/site-packages (from fiona>=1.8->geopandas) (1.1.1)\n",
      "Requirement already satisfied: attrs>=17 in /opt/conda/lib/python3.9/site-packages (from fiona>=1.8->geopandas) (21.2.0)\n",
      "Requirement already satisfied: cligj>=0.5 in /opt/conda/lib/python3.9/site-packages (from fiona>=1.8->geopandas) (0.7.2)\n",
      "Requirement already satisfied: click>=4.0 in /opt/conda/lib/python3.9/site-packages (from fiona>=1.8->geopandas) (8.0.3)\n",
      "Requirement already satisfied: munch in /opt/conda/lib/python3.9/site-packages (from fiona>=1.8->geopandas) (2.5.0)\n",
      "Requirement already satisfied: setuptools in /opt/conda/lib/python3.9/site-packages (from fiona>=1.8->geopandas) (57.4.0)\n",
      "Requirement already satisfied: certifi in /opt/conda/lib/python3.9/site-packages (from fiona>=1.8->geopandas) (2021.10.8)\n",
      "Requirement already satisfied: numpy>=1.17.3 in /opt/conda/lib/python3.9/site-packages (from pandas>=0.25.0->geopandas) (1.21.3)\n",
      "Requirement already satisfied: pytz>=2017.3 in /opt/conda/lib/python3.9/site-packages (from pandas>=0.25.0->geopandas) (2021.1)\n",
      "Requirement already satisfied: python-dateutil>=2.7.3 in /opt/conda/lib/python3.9/site-packages (from pandas>=0.25.0->geopandas) (2.8.2)\n",
      "Note: you may need to restart the kernel to use updated packages.\n"
     ]
    }
   ],
   "source": [
    "pip install geopandas"
   ]
  },
  {
   "cell_type": "code",
   "execution_count": 7,
   "metadata": {
    "scrolled": false
   },
   "outputs": [
    {
     "name": "stdout",
     "output_type": "stream",
     "text": [
      "Requirement already satisfied: ipython-autotime in /opt/conda/lib/python3.9/site-packages (0.3.1)\n",
      "Requirement already satisfied: ipython in /opt/conda/lib/python3.9/site-packages (from ipython-autotime) (7.26.0)\n",
      "Requirement already satisfied: setuptools>=18.5 in /opt/conda/lib/python3.9/site-packages (from ipython->ipython-autotime) (57.4.0)\n",
      "Requirement already satisfied: matplotlib-inline in /opt/conda/lib/python3.9/site-packages (from ipython->ipython-autotime) (0.1.2)\n",
      "Requirement already satisfied: pexpect>4.3 in /opt/conda/lib/python3.9/site-packages (from ipython->ipython-autotime) (4.8.0)\n",
      "Requirement already satisfied: prompt-toolkit!=3.0.0,!=3.0.1,<3.1.0,>=2.0.0 in /opt/conda/lib/python3.9/site-packages (from ipython->ipython-autotime) (3.0.19)\n",
      "Requirement already satisfied: backcall in /opt/conda/lib/python3.9/site-packages (from ipython->ipython-autotime) (0.2.0)\n",
      "Requirement already satisfied: traitlets>=4.2 in /opt/conda/lib/python3.9/site-packages (from ipython->ipython-autotime) (5.0.5)\n",
      "Requirement already satisfied: pygments in /opt/conda/lib/python3.9/site-packages (from ipython->ipython-autotime) (2.10.0)\n",
      "Requirement already satisfied: decorator in /opt/conda/lib/python3.9/site-packages (from ipython->ipython-autotime) (5.0.9)\n",
      "Requirement already satisfied: jedi>=0.16 in /opt/conda/lib/python3.9/site-packages (from ipython->ipython-autotime) (0.18.0)\n",
      "Requirement already satisfied: pickleshare in /opt/conda/lib/python3.9/site-packages (from ipython->ipython-autotime) (0.7.5)\n",
      "Requirement already satisfied: parso<0.9.0,>=0.8.0 in /opt/conda/lib/python3.9/site-packages (from jedi>=0.16->ipython->ipython-autotime) (0.8.2)\n",
      "Requirement already satisfied: ptyprocess>=0.5 in /opt/conda/lib/python3.9/site-packages (from pexpect>4.3->ipython->ipython-autotime) (0.7.0)\n",
      "Requirement already satisfied: wcwidth in /opt/conda/lib/python3.9/site-packages (from prompt-toolkit!=3.0.0,!=3.0.1,<3.1.0,>=2.0.0->ipython->ipython-autotime) (0.2.5)\n",
      "Requirement already satisfied: ipython-genutils in /opt/conda/lib/python3.9/site-packages (from traitlets>=4.2->ipython->ipython-autotime) (0.2.0)\n",
      "Note: you may need to restart the kernel to use updated packages.\n"
     ]
    }
   ],
   "source": [
    "pip install ipython-autotime"
   ]
  },
  {
   "cell_type": "code",
   "execution_count": 8,
   "metadata": {
    "scrolled": true
   },
   "outputs": [
    {
     "name": "stdout",
     "output_type": "stream",
     "text": [
      "Requirement already satisfied: geopy in /opt/conda/lib/python3.9/site-packages (2.2.0)\n",
      "Requirement already satisfied: geographiclib<2,>=1.49 in /opt/conda/lib/python3.9/site-packages (from geopy) (1.52)\n",
      "Note: you may need to restart the kernel to use updated packages.\n"
     ]
    }
   ],
   "source": [
    "pip install geopy"
   ]
  },
  {
   "cell_type": "markdown",
   "metadata": {},
   "source": [
    "# Importing Libraries and Packages"
   ]
  },
  {
   "cell_type": "code",
   "execution_count": 9,
   "metadata": {},
   "outputs": [],
   "source": [
    "import pandas as pd"
   ]
  },
  {
   "cell_type": "markdown",
   "metadata": {},
   "source": [
    "# Loading Datasets"
   ]
  },
  {
   "cell_type": "code",
   "execution_count": 10,
   "metadata": {
    "scrolled": false
   },
   "outputs": [],
   "source": [
    "foodexp = pd.read_csv('BWAI Challenge 3 Dataset/foodexp.csv')\n",
    "foodsimple = pd.read_csv('BWAI Challenge 3 Dataset/foodsimple.csv')\n",
    "orderItemsDonations = pd.read_csv('BWAI Challenge 3 Dataset/orderItemsDonations.csv')\n",
    "foodfridge = pd.read_csv('BWAI Challenge 3 Dataset/foodfridge.csv')\n",
    "orderHeaderDonations = pd.read_csv('BWAI Challenge 3 Dataset/orderHeaderDonations.csv')\n",
    "orderItemsRequests = pd.read_csv('BWAI Challenge 3 Dataset/orderItemsRequests.csv')\n",
    "foodshelf = pd.read_csv('BWAI Challenge 3 Dataset/foodshelf.csv')\n",
    "orderHeaderRequests = pd.read_csv('BWAI Challenge 3 Dataset/orderHeaderRequests.csv')"
   ]
  },
  {
   "cell_type": "code",
   "execution_count": 11,
   "metadata": {},
   "outputs": [],
   "source": [
    "foodexp['TABLE'] = 'foodexp'"
   ]
  },
  {
   "cell_type": "code",
   "execution_count": 12,
   "metadata": {},
   "outputs": [],
   "source": [
    "foodsimple['TABLE'] = 'foodsimple'"
   ]
  },
  {
   "cell_type": "code",
   "execution_count": 13,
   "metadata": {},
   "outputs": [],
   "source": [
    "foodfridge['TABLE'] = 'foodfridge'"
   ]
  },
  {
   "cell_type": "code",
   "execution_count": 14,
   "metadata": {
    "scrolled": true
   },
   "outputs": [],
   "source": [
    "foodshelf['TABLE'] = 'foodshelf'"
   ]
  },
  {
   "cell_type": "markdown",
   "metadata": {},
   "source": [
    "# Concatation "
   ]
  },
  {
   "cell_type": "code",
   "execution_count": 15,
   "metadata": {},
   "outputs": [],
   "source": [
    "food = pd.concat([foodexp, foodsimple, foodfridge, foodshelf])"
   ]
  },
  {
   "cell_type": "code",
   "execution_count": 16,
   "metadata": {},
   "outputs": [
    {
     "data": {
      "text/html": [
       "<div>\n",
       "<style scoped>\n",
       "    .dataframe tbody tr th:only-of-type {\n",
       "        vertical-align: middle;\n",
       "    }\n",
       "\n",
       "    .dataframe tbody tr th {\n",
       "        vertical-align: top;\n",
       "    }\n",
       "\n",
       "    .dataframe thead th {\n",
       "        text-align: right;\n",
       "    }\n",
       "</style>\n",
       "<table border=\"1\" class=\"dataframe\">\n",
       "  <thead>\n",
       "    <tr style=\"text-align: right;\">\n",
       "      <th></th>\n",
       "      <th>TYPE</th>\n",
       "      <th>ITEM</th>\n",
       "      <th>PERIOD</th>\n",
       "      <th>DETAILS</th>\n",
       "      <th>STORAGE</th>\n",
       "      <th>TABLE</th>\n",
       "    </tr>\n",
       "  </thead>\n",
       "  <tbody>\n",
       "    <tr>\n",
       "      <th>0</th>\n",
       "      <td>BEVERAGES</td>\n",
       "      <td>Juice in cartons, fruit drinks, punch</td>\n",
       "      <td>3 weeks</td>\n",
       "      <td>unopened</td>\n",
       "      <td>REFRIGERATED</td>\n",
       "      <td>foodexp</td>\n",
       "    </tr>\n",
       "    <tr>\n",
       "      <th>1</th>\n",
       "      <td>BEVERAGES</td>\n",
       "      <td>Juice in cartons, fruit drinks, punch</td>\n",
       "      <td>7-10 days</td>\n",
       "      <td>opened</td>\n",
       "      <td>REFRIGERATED</td>\n",
       "      <td>foodexp</td>\n",
       "    </tr>\n",
       "    <tr>\n",
       "      <th>2</th>\n",
       "      <td>BEVERAGES</td>\n",
       "      <td>Juice in cartons, fruit drinks, punch</td>\n",
       "      <td>8-12 months</td>\n",
       "      <td>NaN</td>\n",
       "      <td>FROZEN</td>\n",
       "      <td>foodexp</td>\n",
       "    </tr>\n",
       "    <tr>\n",
       "      <th>3</th>\n",
       "      <td>DIARY</td>\n",
       "      <td>Butter</td>\n",
       "      <td>1-3 months</td>\n",
       "      <td>NaN</td>\n",
       "      <td>REFRIGERATED</td>\n",
       "      <td>foodexp</td>\n",
       "    </tr>\n",
       "    <tr>\n",
       "      <th>4</th>\n",
       "      <td>DIARY</td>\n",
       "      <td>Butter</td>\n",
       "      <td>6-9 months</td>\n",
       "      <td>NaN</td>\n",
       "      <td>FROZEN</td>\n",
       "      <td>foodexp</td>\n",
       "    </tr>\n",
       "    <tr>\n",
       "      <th>...</th>\n",
       "      <td>...</td>\n",
       "      <td>...</td>\n",
       "      <td>...</td>\n",
       "      <td>...</td>\n",
       "      <td>...</td>\n",
       "      <td>...</td>\n",
       "    </tr>\n",
       "    <tr>\n",
       "      <th>223</th>\n",
       "      <td>BAKERY</td>\n",
       "      <td>Pies, pumpkin</td>\n",
       "      <td>2 hours</td>\n",
       "      <td>NaN</td>\n",
       "      <td>SHELF</td>\n",
       "      <td>foodshelf</td>\n",
       "    </tr>\n",
       "    <tr>\n",
       "      <th>224</th>\n",
       "      <td>BAKERY</td>\n",
       "      <td>Quiche</td>\n",
       "      <td>2 hours</td>\n",
       "      <td>NaN</td>\n",
       "      <td>SHELF</td>\n",
       "      <td>foodshelf</td>\n",
       "    </tr>\n",
       "    <tr>\n",
       "      <th>225</th>\n",
       "      <td>BAKERY</td>\n",
       "      <td>Rolls, yeast, baked</td>\n",
       "      <td>3-4 days</td>\n",
       "      <td>NaN</td>\n",
       "      <td>SHELF</td>\n",
       "      <td>foodshelf</td>\n",
       "    </tr>\n",
       "    <tr>\n",
       "      <th>226</th>\n",
       "      <td>BAKERY</td>\n",
       "      <td>Rolls, yeast, partially baked</td>\n",
       "      <td>Package date</td>\n",
       "      <td>NaN</td>\n",
       "      <td>SHELF</td>\n",
       "      <td>foodshelf</td>\n",
       "    </tr>\n",
       "    <tr>\n",
       "      <th>227</th>\n",
       "      <td>BAKERY</td>\n",
       "      <td>Rolls, filled, meat or vegetables</td>\n",
       "      <td>2 hours</td>\n",
       "      <td>NaN</td>\n",
       "      <td>SHELF</td>\n",
       "      <td>foodshelf</td>\n",
       "    </tr>\n",
       "  </tbody>\n",
       "</table>\n",
       "<p>1370 rows × 6 columns</p>\n",
       "</div>"
      ],
      "text/plain": [
       "          TYPE                                   ITEM        PERIOD   DETAILS  \\\n",
       "0    BEVERAGES  Juice in cartons, fruit drinks, punch       3 weeks  unopened   \n",
       "1    BEVERAGES  Juice in cartons, fruit drinks, punch     7-10 days    opened   \n",
       "2    BEVERAGES  Juice in cartons, fruit drinks, punch   8-12 months       NaN   \n",
       "3        DIARY                                 Butter    1-3 months       NaN   \n",
       "4        DIARY                                 Butter    6-9 months       NaN   \n",
       "..         ...                                    ...           ...       ...   \n",
       "223     BAKERY                          Pies, pumpkin       2 hours       NaN   \n",
       "224     BAKERY                                 Quiche       2 hours       NaN   \n",
       "225     BAKERY                    Rolls, yeast, baked      3-4 days       NaN   \n",
       "226     BAKERY          Rolls, yeast, partially baked  Package date       NaN   \n",
       "227     BAKERY      Rolls, filled, meat or vegetables       2 hours       NaN   \n",
       "\n",
       "          STORAGE      TABLE  \n",
       "0    REFRIGERATED    foodexp  \n",
       "1    REFRIGERATED    foodexp  \n",
       "2          FROZEN    foodexp  \n",
       "3    REFRIGERATED    foodexp  \n",
       "4          FROZEN    foodexp  \n",
       "..            ...        ...  \n",
       "223         SHELF  foodshelf  \n",
       "224         SHELF  foodshelf  \n",
       "225         SHELF  foodshelf  \n",
       "226         SHELF  foodshelf  \n",
       "227         SHELF  foodshelf  \n",
       "\n",
       "[1370 rows x 6 columns]"
      ]
     },
     "execution_count": 16,
     "metadata": {},
     "output_type": "execute_result"
    }
   ],
   "source": [
    "food"
   ]
  },
  {
   "cell_type": "code",
   "execution_count": 17,
   "metadata": {
    "scrolled": true
   },
   "outputs": [
    {
     "data": {
      "text/html": [
       "<div>\n",
       "<style scoped>\n",
       "    .dataframe tbody tr th:only-of-type {\n",
       "        vertical-align: middle;\n",
       "    }\n",
       "\n",
       "    .dataframe tbody tr th {\n",
       "        vertical-align: top;\n",
       "    }\n",
       "\n",
       "    .dataframe thead th {\n",
       "        text-align: right;\n",
       "    }\n",
       "</style>\n",
       "<table border=\"1\" class=\"dataframe\">\n",
       "  <thead>\n",
       "    <tr style=\"text-align: right;\">\n",
       "      <th></th>\n",
       "      <th>OrderId</th>\n",
       "      <th>OrderItemId</th>\n",
       "      <th>ProductType</th>\n",
       "      <th>ProductItem</th>\n",
       "      <th>ProductPeriod</th>\n",
       "      <th>ProductDetails</th>\n",
       "      <th>ProductStorage</th>\n",
       "      <th>Quantity</th>\n",
       "    </tr>\n",
       "  </thead>\n",
       "  <tbody>\n",
       "    <tr>\n",
       "      <th>0</th>\n",
       "      <td>20051</td>\n",
       "      <td>1</td>\n",
       "      <td>DIARY</td>\n",
       "      <td>Cheese, processed slices</td>\n",
       "      <td>1-2 months</td>\n",
       "      <td>NaN</td>\n",
       "      <td>REFRIGERATED</td>\n",
       "      <td>105</td>\n",
       "    </tr>\n",
       "    <tr>\n",
       "      <th>1</th>\n",
       "      <td>20051</td>\n",
       "      <td>2</td>\n",
       "      <td>DIARY</td>\n",
       "      <td>Eggs, in shell</td>\n",
       "      <td>3-5 weeks</td>\n",
       "      <td>NaN</td>\n",
       "      <td>REFRIGERATED</td>\n",
       "      <td>120</td>\n",
       "    </tr>\n",
       "    <tr>\n",
       "      <th>2</th>\n",
       "      <td>20051</td>\n",
       "      <td>3</td>\n",
       "      <td>DIARY</td>\n",
       "      <td>Margarine</td>\n",
       "      <td>12 months</td>\n",
       "      <td>NaN</td>\n",
       "      <td>FROZEN</td>\n",
       "      <td>140</td>\n",
       "    </tr>\n",
       "    <tr>\n",
       "      <th>3</th>\n",
       "      <td>20051</td>\n",
       "      <td>4</td>\n",
       "      <td>DIARY</td>\n",
       "      <td>Milk, plain or flavored</td>\n",
       "      <td>1 week</td>\n",
       "      <td>NaN</td>\n",
       "      <td>REFRIGERATED</td>\n",
       "      <td>135</td>\n",
       "    </tr>\n",
       "    <tr>\n",
       "      <th>4</th>\n",
       "      <td>20051</td>\n",
       "      <td>5</td>\n",
       "      <td>SOY</td>\n",
       "      <td>Tofu</td>\n",
       "      <td>1 week</td>\n",
       "      <td>NaN</td>\n",
       "      <td>REFRIGERATED</td>\n",
       "      <td>145</td>\n",
       "    </tr>\n",
       "    <tr>\n",
       "      <th>...</th>\n",
       "      <td>...</td>\n",
       "      <td>...</td>\n",
       "      <td>...</td>\n",
       "      <td>...</td>\n",
       "      <td>...</td>\n",
       "      <td>...</td>\n",
       "      <td>...</td>\n",
       "      <td>...</td>\n",
       "    </tr>\n",
       "    <tr>\n",
       "      <th>9215</th>\n",
       "      <td>20139</td>\n",
       "      <td>35</td>\n",
       "      <td>SHELLFISH</td>\n",
       "      <td>Shucked clams, mussels and oysters</td>\n",
       "      <td>3-4 months</td>\n",
       "      <td>NaN</td>\n",
       "      <td>FROZEN</td>\n",
       "      <td>150</td>\n",
       "    </tr>\n",
       "    <tr>\n",
       "      <th>9216</th>\n",
       "      <td>20139</td>\n",
       "      <td>36</td>\n",
       "      <td>SHELF_ITEM</td>\n",
       "      <td>Milk, canned evaporated</td>\n",
       "      <td>4-5 days</td>\n",
       "      <td>opened</td>\n",
       "      <td>REFRIGERATED</td>\n",
       "      <td>168</td>\n",
       "    </tr>\n",
       "    <tr>\n",
       "      <th>9217</th>\n",
       "      <td>20139</td>\n",
       "      <td>37</td>\n",
       "      <td>PESTO</td>\n",
       "      <td>Pesto or Sala</td>\n",
       "      <td>package date</td>\n",
       "      <td>unopened</td>\n",
       "      <td>REFRIGERATED</td>\n",
       "      <td>120</td>\n",
       "    </tr>\n",
       "    <tr>\n",
       "      <th>9218</th>\n",
       "      <td>20139</td>\n",
       "      <td>38</td>\n",
       "      <td>BAKERY</td>\n",
       "      <td>Rolls, yeast, baked</td>\n",
       "      <td>1 week</td>\n",
       "      <td>NaN</td>\n",
       "      <td>REFRIGERATED</td>\n",
       "      <td>168</td>\n",
       "    </tr>\n",
       "    <tr>\n",
       "      <th>9219</th>\n",
       "      <td>20139</td>\n",
       "      <td>39</td>\n",
       "      <td>PROCESSED_MEAT</td>\n",
       "      <td>Lunch meats, after opening</td>\n",
       "      <td>3-5 days</td>\n",
       "      <td>NaN</td>\n",
       "      <td>REFRIGERATED</td>\n",
       "      <td>168</td>\n",
       "    </tr>\n",
       "  </tbody>\n",
       "</table>\n",
       "<p>9220 rows × 8 columns</p>\n",
       "</div>"
      ],
      "text/plain": [
       "      OrderId  OrderItemId     ProductType  \\\n",
       "0       20051            1           DIARY   \n",
       "1       20051            2           DIARY   \n",
       "2       20051            3           DIARY   \n",
       "3       20051            4           DIARY   \n",
       "4       20051            5             SOY   \n",
       "...       ...          ...             ...   \n",
       "9215    20139           35       SHELLFISH   \n",
       "9216    20139           36      SHELF_ITEM   \n",
       "9217    20139           37           PESTO   \n",
       "9218    20139           38          BAKERY   \n",
       "9219    20139           39  PROCESSED_MEAT   \n",
       "\n",
       "                             ProductItem ProductPeriod ProductDetails  \\\n",
       "0               Cheese, processed slices    1-2 months            NaN   \n",
       "1                         Eggs, in shell     3-5 weeks            NaN   \n",
       "2                              Margarine     12 months            NaN   \n",
       "3                Milk, plain or flavored        1 week            NaN   \n",
       "4                                   Tofu        1 week            NaN   \n",
       "...                                  ...           ...            ...   \n",
       "9215  Shucked clams, mussels and oysters    3-4 months            NaN   \n",
       "9216             Milk, canned evaporated      4-5 days         opened   \n",
       "9217                       Pesto or Sala  package date       unopened   \n",
       "9218                 Rolls, yeast, baked        1 week            NaN   \n",
       "9219          Lunch meats, after opening      3-5 days            NaN   \n",
       "\n",
       "     ProductStorage  Quantity  \n",
       "0      REFRIGERATED       105  \n",
       "1      REFRIGERATED       120  \n",
       "2            FROZEN       140  \n",
       "3      REFRIGERATED       135  \n",
       "4      REFRIGERATED       145  \n",
       "...             ...       ...  \n",
       "9215         FROZEN       150  \n",
       "9216   REFRIGERATED       168  \n",
       "9217   REFRIGERATED       120  \n",
       "9218   REFRIGERATED       168  \n",
       "9219   REFRIGERATED       168  \n",
       "\n",
       "[9220 rows x 8 columns]"
      ]
     },
     "execution_count": 17,
     "metadata": {},
     "output_type": "execute_result"
    }
   ],
   "source": [
    "orderItemsDonations"
   ]
  },
  {
   "cell_type": "code",
   "execution_count": 18,
   "metadata": {},
   "outputs": [
    {
     "data": {
      "text/html": [
       "<div>\n",
       "<style scoped>\n",
       "    .dataframe tbody tr th:only-of-type {\n",
       "        vertical-align: middle;\n",
       "    }\n",
       "\n",
       "    .dataframe tbody tr th {\n",
       "        vertical-align: top;\n",
       "    }\n",
       "\n",
       "    .dataframe thead th {\n",
       "        text-align: right;\n",
       "    }\n",
       "</style>\n",
       "<table border=\"1\" class=\"dataframe\">\n",
       "  <thead>\n",
       "    <tr style=\"text-align: right;\">\n",
       "      <th></th>\n",
       "      <th>OrderId</th>\n",
       "      <th>PartnerId</th>\n",
       "      <th>OrderTotal</th>\n",
       "      <th>OrderDate</th>\n",
       "      <th>PartnerName</th>\n",
       "      <th>PartnerGeoLat</th>\n",
       "      <th>PartnerGeoLon</th>\n",
       "    </tr>\n",
       "  </thead>\n",
       "  <tbody>\n",
       "    <tr>\n",
       "      <th>0</th>\n",
       "      <td>20051</td>\n",
       "      <td>190050</td>\n",
       "      <td>2000</td>\n",
       "      <td>2021-01-11</td>\n",
       "      <td>FoodieLand</td>\n",
       "      <td>-27.49079</td>\n",
       "      <td>153.06799</td>\n",
       "    </tr>\n",
       "    <tr>\n",
       "      <th>1</th>\n",
       "      <td>20052</td>\n",
       "      <td>190050</td>\n",
       "      <td>2000</td>\n",
       "      <td>2021-01-12</td>\n",
       "      <td>FoodieLand</td>\n",
       "      <td>-27.49079</td>\n",
       "      <td>153.06799</td>\n",
       "    </tr>\n",
       "    <tr>\n",
       "      <th>2</th>\n",
       "      <td>20053</td>\n",
       "      <td>190050</td>\n",
       "      <td>2000</td>\n",
       "      <td>2021-01-13</td>\n",
       "      <td>FoodieLand</td>\n",
       "      <td>-27.49079</td>\n",
       "      <td>153.06799</td>\n",
       "    </tr>\n",
       "    <tr>\n",
       "      <th>3</th>\n",
       "      <td>20054</td>\n",
       "      <td>190050</td>\n",
       "      <td>2000</td>\n",
       "      <td>2021-01-14</td>\n",
       "      <td>FoodieLand</td>\n",
       "      <td>-27.49079</td>\n",
       "      <td>153.06799</td>\n",
       "    </tr>\n",
       "    <tr>\n",
       "      <th>4</th>\n",
       "      <td>20055</td>\n",
       "      <td>190050</td>\n",
       "      <td>2000</td>\n",
       "      <td>2021-01-15</td>\n",
       "      <td>FoodieLand</td>\n",
       "      <td>-27.49079</td>\n",
       "      <td>153.06799</td>\n",
       "    </tr>\n",
       "    <tr>\n",
       "      <th>...</th>\n",
       "      <td>...</td>\n",
       "      <td>...</td>\n",
       "      <td>...</td>\n",
       "      <td>...</td>\n",
       "      <td>...</td>\n",
       "      <td>...</td>\n",
       "      <td>...</td>\n",
       "    </tr>\n",
       "    <tr>\n",
       "      <th>262</th>\n",
       "      <td>20135</td>\n",
       "      <td>190052</td>\n",
       "      <td>2000</td>\n",
       "      <td>2021-04-05</td>\n",
       "      <td>Grocertown</td>\n",
       "      <td>-27.54099</td>\n",
       "      <td>153.04839</td>\n",
       "    </tr>\n",
       "    <tr>\n",
       "      <th>263</th>\n",
       "      <td>20136</td>\n",
       "      <td>190052</td>\n",
       "      <td>2000</td>\n",
       "      <td>2021-04-06</td>\n",
       "      <td>Grocertown</td>\n",
       "      <td>-27.54099</td>\n",
       "      <td>153.04839</td>\n",
       "    </tr>\n",
       "    <tr>\n",
       "      <th>264</th>\n",
       "      <td>20137</td>\n",
       "      <td>190052</td>\n",
       "      <td>2000</td>\n",
       "      <td>2021-04-07</td>\n",
       "      <td>Grocertown</td>\n",
       "      <td>-27.54099</td>\n",
       "      <td>153.04839</td>\n",
       "    </tr>\n",
       "    <tr>\n",
       "      <th>265</th>\n",
       "      <td>20138</td>\n",
       "      <td>190052</td>\n",
       "      <td>2000</td>\n",
       "      <td>2021-04-08</td>\n",
       "      <td>Grocertown</td>\n",
       "      <td>-27.54099</td>\n",
       "      <td>153.04839</td>\n",
       "    </tr>\n",
       "    <tr>\n",
       "      <th>266</th>\n",
       "      <td>20139</td>\n",
       "      <td>190052</td>\n",
       "      <td>2000</td>\n",
       "      <td>2021-04-09</td>\n",
       "      <td>Grocertown</td>\n",
       "      <td>-27.54099</td>\n",
       "      <td>153.04839</td>\n",
       "    </tr>\n",
       "  </tbody>\n",
       "</table>\n",
       "<p>267 rows × 7 columns</p>\n",
       "</div>"
      ],
      "text/plain": [
       "     OrderId  PartnerId  OrderTotal   OrderDate PartnerName  PartnerGeoLat  \\\n",
       "0      20051     190050        2000  2021-01-11  FoodieLand      -27.49079   \n",
       "1      20052     190050        2000  2021-01-12  FoodieLand      -27.49079   \n",
       "2      20053     190050        2000  2021-01-13  FoodieLand      -27.49079   \n",
       "3      20054     190050        2000  2021-01-14  FoodieLand      -27.49079   \n",
       "4      20055     190050        2000  2021-01-15  FoodieLand      -27.49079   \n",
       "..       ...        ...         ...         ...         ...            ...   \n",
       "262    20135     190052        2000  2021-04-05  Grocertown      -27.54099   \n",
       "263    20136     190052        2000  2021-04-06  Grocertown      -27.54099   \n",
       "264    20137     190052        2000  2021-04-07  Grocertown      -27.54099   \n",
       "265    20138     190052        2000  2021-04-08  Grocertown      -27.54099   \n",
       "266    20139     190052        2000  2021-04-09  Grocertown      -27.54099   \n",
       "\n",
       "     PartnerGeoLon  \n",
       "0        153.06799  \n",
       "1        153.06799  \n",
       "2        153.06799  \n",
       "3        153.06799  \n",
       "4        153.06799  \n",
       "..             ...  \n",
       "262      153.04839  \n",
       "263      153.04839  \n",
       "264      153.04839  \n",
       "265      153.04839  \n",
       "266      153.04839  \n",
       "\n",
       "[267 rows x 7 columns]"
      ]
     },
     "execution_count": 18,
     "metadata": {},
     "output_type": "execute_result"
    }
   ],
   "source": [
    "orderHeaderDonations"
   ]
  },
  {
   "cell_type": "code",
   "execution_count": 19,
   "metadata": {},
   "outputs": [
    {
     "data": {
      "text/html": [
       "<div>\n",
       "<style scoped>\n",
       "    .dataframe tbody tr th:only-of-type {\n",
       "        vertical-align: middle;\n",
       "    }\n",
       "\n",
       "    .dataframe tbody tr th {\n",
       "        vertical-align: top;\n",
       "    }\n",
       "\n",
       "    .dataframe thead th {\n",
       "        text-align: right;\n",
       "    }\n",
       "</style>\n",
       "<table border=\"1\" class=\"dataframe\">\n",
       "  <thead>\n",
       "    <tr style=\"text-align: right;\">\n",
       "      <th></th>\n",
       "      <th>OrderId</th>\n",
       "      <th>OrderItemId</th>\n",
       "      <th>ProductType</th>\n",
       "      <th>ProductItem</th>\n",
       "      <th>ProductPeriod</th>\n",
       "      <th>ProductDetails</th>\n",
       "      <th>ProductStorage</th>\n",
       "    </tr>\n",
       "  </thead>\n",
       "  <tbody>\n",
       "    <tr>\n",
       "      <th>0</th>\n",
       "      <td>50050</td>\n",
       "      <td>1</td>\n",
       "      <td>DIARY</td>\n",
       "      <td>Eggs, in shell</td>\n",
       "      <td>NaN</td>\n",
       "      <td>Do not freeze</td>\n",
       "      <td>FROZEN</td>\n",
       "    </tr>\n",
       "    <tr>\n",
       "      <th>1</th>\n",
       "      <td>50050</td>\n",
       "      <td>2</td>\n",
       "      <td>SHELF_ITEM</td>\n",
       "      <td>Tea, bags</td>\n",
       "      <td>18 months</td>\n",
       "      <td>unopened</td>\n",
       "      <td>SHELF</td>\n",
       "    </tr>\n",
       "    <tr>\n",
       "      <th>2</th>\n",
       "      <td>50050</td>\n",
       "      <td>3</td>\n",
       "      <td>BAKERY</td>\n",
       "      <td>Pies, mincemeat</td>\n",
       "      <td>8 months</td>\n",
       "      <td>NaN</td>\n",
       "      <td>FROZEN</td>\n",
       "    </tr>\n",
       "    <tr>\n",
       "      <th>3</th>\n",
       "      <td>50050</td>\n",
       "      <td>4</td>\n",
       "      <td>SHELF_ITEM</td>\n",
       "      <td>Marshmallows, marshmallow creme</td>\n",
       "      <td>2-4 months</td>\n",
       "      <td>unopened</td>\n",
       "      <td>SHELF</td>\n",
       "    </tr>\n",
       "    <tr>\n",
       "      <th>4</th>\n",
       "      <td>50050</td>\n",
       "      <td>5</td>\n",
       "      <td>BAKERY</td>\n",
       "      <td>Doughnuts, glazed or cake</td>\n",
       "      <td>1 week</td>\n",
       "      <td>G</td>\n",
       "      <td>REFRIGERATED</td>\n",
       "    </tr>\n",
       "    <tr>\n",
       "      <th>...</th>\n",
       "      <td>...</td>\n",
       "      <td>...</td>\n",
       "      <td>...</td>\n",
       "      <td>...</td>\n",
       "      <td>...</td>\n",
       "      <td>...</td>\n",
       "      <td>...</td>\n",
       "    </tr>\n",
       "    <tr>\n",
       "      <th>5739</th>\n",
       "      <td>50068</td>\n",
       "      <td>9</td>\n",
       "      <td>BAKING</td>\n",
       "      <td>Flour, whole wheat</td>\n",
       "      <td>6-8 months</td>\n",
       "      <td>opened</td>\n",
       "      <td>REFRIGERATED</td>\n",
       "    </tr>\n",
       "    <tr>\n",
       "      <th>5740</th>\n",
       "      <td>50068</td>\n",
       "      <td>10</td>\n",
       "      <td>VEGETABLES</td>\n",
       "      <td>Cauliflower</td>\n",
       "      <td>3-5 days</td>\n",
       "      <td>NaN</td>\n",
       "      <td>REFRIGERATED</td>\n",
       "    </tr>\n",
       "    <tr>\n",
       "      <th>5741</th>\n",
       "      <td>50068</td>\n",
       "      <td>11</td>\n",
       "      <td>PROCESSED_POULTRY</td>\n",
       "      <td>Lunch meats, after opening</td>\n",
       "      <td>3-5 days</td>\n",
       "      <td>NaN</td>\n",
       "      <td>REFRIGERATED</td>\n",
       "    </tr>\n",
       "    <tr>\n",
       "      <th>5742</th>\n",
       "      <td>50068</td>\n",
       "      <td>12</td>\n",
       "      <td>SOY</td>\n",
       "      <td>Soy or rice beverage, Re-hydrated TSP</td>\n",
       "      <td>3-4 months</td>\n",
       "      <td>unopened</td>\n",
       "      <td>SHELF</td>\n",
       "    </tr>\n",
       "    <tr>\n",
       "      <th>5743</th>\n",
       "      <td>50068</td>\n",
       "      <td>13</td>\n",
       "      <td>PROCESSED_MEAT</td>\n",
       "      <td>Sausage, raw, bulk type</td>\n",
       "      <td>1-2 months</td>\n",
       "      <td>NaN</td>\n",
       "      <td>FROZEN</td>\n",
       "    </tr>\n",
       "  </tbody>\n",
       "</table>\n",
       "<p>5744 rows × 7 columns</p>\n",
       "</div>"
      ],
      "text/plain": [
       "      OrderId  OrderItemId        ProductType  \\\n",
       "0       50050            1              DIARY   \n",
       "1       50050            2         SHELF_ITEM   \n",
       "2       50050            3             BAKERY   \n",
       "3       50050            4         SHELF_ITEM   \n",
       "4       50050            5             BAKERY   \n",
       "...       ...          ...                ...   \n",
       "5739    50068            9             BAKING   \n",
       "5740    50068           10         VEGETABLES   \n",
       "5741    50068           11  PROCESSED_POULTRY   \n",
       "5742    50068           12                SOY   \n",
       "5743    50068           13     PROCESSED_MEAT   \n",
       "\n",
       "                                ProductItem ProductPeriod ProductDetails  \\\n",
       "0                            Eggs, in shell           NaN  Do not freeze   \n",
       "1                                 Tea, bags     18 months       unopened   \n",
       "2                           Pies, mincemeat      8 months            NaN   \n",
       "3           Marshmallows, marshmallow creme    2-4 months       unopened   \n",
       "4                 Doughnuts, glazed or cake        1 week              G   \n",
       "...                                     ...           ...            ...   \n",
       "5739                     Flour, whole wheat    6-8 months         opened   \n",
       "5740                            Cauliflower      3-5 days            NaN   \n",
       "5741             Lunch meats, after opening      3-5 days            NaN   \n",
       "5742  Soy or rice beverage, Re-hydrated TSP    3-4 months       unopened   \n",
       "5743                Sausage, raw, bulk type    1-2 months            NaN   \n",
       "\n",
       "     ProductStorage  \n",
       "0            FROZEN  \n",
       "1             SHELF  \n",
       "2            FROZEN  \n",
       "3             SHELF  \n",
       "4      REFRIGERATED  \n",
       "...             ...  \n",
       "5739   REFRIGERATED  \n",
       "5740   REFRIGERATED  \n",
       "5741   REFRIGERATED  \n",
       "5742          SHELF  \n",
       "5743         FROZEN  \n",
       "\n",
       "[5744 rows x 7 columns]"
      ]
     },
     "execution_count": 19,
     "metadata": {},
     "output_type": "execute_result"
    }
   ],
   "source": [
    "orderItemsRequests"
   ]
  },
  {
   "cell_type": "code",
   "execution_count": 20,
   "metadata": {},
   "outputs": [
    {
     "data": {
      "text/html": [
       "<div>\n",
       "<style scoped>\n",
       "    .dataframe tbody tr th:only-of-type {\n",
       "        vertical-align: middle;\n",
       "    }\n",
       "\n",
       "    .dataframe tbody tr th {\n",
       "        vertical-align: top;\n",
       "    }\n",
       "\n",
       "    .dataframe thead th {\n",
       "        text-align: right;\n",
       "    }\n",
       "</style>\n",
       "<table border=\"1\" class=\"dataframe\">\n",
       "  <thead>\n",
       "    <tr style=\"text-align: right;\">\n",
       "      <th></th>\n",
       "      <th>OrderId</th>\n",
       "      <th>CustomerId</th>\n",
       "      <th>OrderTotal</th>\n",
       "      <th>OrderDate</th>\n",
       "      <th>Location</th>\n",
       "      <th>CustomerName</th>\n",
       "      <th>CustomerGeoLat</th>\n",
       "      <th>CustomerGeoLon</th>\n",
       "    </tr>\n",
       "  </thead>\n",
       "  <tbody>\n",
       "    <tr>\n",
       "      <th>0</th>\n",
       "      <td>50050</td>\n",
       "      <td>90050</td>\n",
       "      <td>200</td>\n",
       "      <td>2021-01-10</td>\n",
       "      <td>AGA North</td>\n",
       "      <td>Mark Burton</td>\n",
       "      <td>-27.54249</td>\n",
       "      <td>153.09159</td>\n",
       "    </tr>\n",
       "    <tr>\n",
       "      <th>1</th>\n",
       "      <td>50051</td>\n",
       "      <td>90050</td>\n",
       "      <td>200</td>\n",
       "      <td>2021-01-20</td>\n",
       "      <td>AGA North</td>\n",
       "      <td>Mark Burton</td>\n",
       "      <td>-27.54249</td>\n",
       "      <td>153.09159</td>\n",
       "    </tr>\n",
       "    <tr>\n",
       "      <th>2</th>\n",
       "      <td>50052</td>\n",
       "      <td>90050</td>\n",
       "      <td>200</td>\n",
       "      <td>2021-01-25</td>\n",
       "      <td>AGA North</td>\n",
       "      <td>Mark Burton</td>\n",
       "      <td>-27.54249</td>\n",
       "      <td>153.09159</td>\n",
       "    </tr>\n",
       "    <tr>\n",
       "      <th>3</th>\n",
       "      <td>50053</td>\n",
       "      <td>90050</td>\n",
       "      <td>200</td>\n",
       "      <td>2021-01-30</td>\n",
       "      <td>AGA North</td>\n",
       "      <td>Mark Burton</td>\n",
       "      <td>-27.54249</td>\n",
       "      <td>153.09159</td>\n",
       "    </tr>\n",
       "    <tr>\n",
       "      <th>4</th>\n",
       "      <td>50054</td>\n",
       "      <td>90050</td>\n",
       "      <td>200</td>\n",
       "      <td>2021-02-06</td>\n",
       "      <td>AGA North</td>\n",
       "      <td>Mark Burton</td>\n",
       "      <td>-27.54249</td>\n",
       "      <td>153.09159</td>\n",
       "    </tr>\n",
       "    <tr>\n",
       "      <th>...</th>\n",
       "      <td>...</td>\n",
       "      <td>...</td>\n",
       "      <td>...</td>\n",
       "      <td>...</td>\n",
       "      <td>...</td>\n",
       "      <td>...</td>\n",
       "      <td>...</td>\n",
       "      <td>...</td>\n",
       "    </tr>\n",
       "    <tr>\n",
       "      <th>387</th>\n",
       "      <td>50064</td>\n",
       "      <td>90069</td>\n",
       "      <td>200</td>\n",
       "      <td>2021-03-09</td>\n",
       "      <td>AGA South</td>\n",
       "      <td>Elizabeth Holt</td>\n",
       "      <td>-27.42669</td>\n",
       "      <td>153.01789</td>\n",
       "    </tr>\n",
       "    <tr>\n",
       "      <th>388</th>\n",
       "      <td>50065</td>\n",
       "      <td>90069</td>\n",
       "      <td>200</td>\n",
       "      <td>2021-03-13</td>\n",
       "      <td>AGA South</td>\n",
       "      <td>Elizabeth Holt</td>\n",
       "      <td>-27.42669</td>\n",
       "      <td>153.01789</td>\n",
       "    </tr>\n",
       "    <tr>\n",
       "      <th>389</th>\n",
       "      <td>50066</td>\n",
       "      <td>90069</td>\n",
       "      <td>200</td>\n",
       "      <td>2021-03-17</td>\n",
       "      <td>AGA South</td>\n",
       "      <td>Elizabeth Holt</td>\n",
       "      <td>-27.42669</td>\n",
       "      <td>153.01789</td>\n",
       "    </tr>\n",
       "    <tr>\n",
       "      <th>390</th>\n",
       "      <td>50067</td>\n",
       "      <td>90069</td>\n",
       "      <td>200</td>\n",
       "      <td>2021-03-19</td>\n",
       "      <td>AGA South</td>\n",
       "      <td>Elizabeth Holt</td>\n",
       "      <td>-27.42669</td>\n",
       "      <td>153.01789</td>\n",
       "    </tr>\n",
       "    <tr>\n",
       "      <th>391</th>\n",
       "      <td>50068</td>\n",
       "      <td>90069</td>\n",
       "      <td>200</td>\n",
       "      <td>2021-03-24</td>\n",
       "      <td>AGA South</td>\n",
       "      <td>Elizabeth Holt</td>\n",
       "      <td>-27.42669</td>\n",
       "      <td>153.01789</td>\n",
       "    </tr>\n",
       "  </tbody>\n",
       "</table>\n",
       "<p>392 rows × 8 columns</p>\n",
       "</div>"
      ],
      "text/plain": [
       "     OrderId  CustomerId  OrderTotal   OrderDate   Location    CustomerName  \\\n",
       "0      50050       90050         200  2021-01-10  AGA North     Mark Burton   \n",
       "1      50051       90050         200  2021-01-20  AGA North     Mark Burton   \n",
       "2      50052       90050         200  2021-01-25  AGA North     Mark Burton   \n",
       "3      50053       90050         200  2021-01-30  AGA North     Mark Burton   \n",
       "4      50054       90050         200  2021-02-06  AGA North     Mark Burton   \n",
       "..       ...         ...         ...         ...        ...             ...   \n",
       "387    50064       90069         200  2021-03-09  AGA South  Elizabeth Holt   \n",
       "388    50065       90069         200  2021-03-13  AGA South  Elizabeth Holt   \n",
       "389    50066       90069         200  2021-03-17  AGA South  Elizabeth Holt   \n",
       "390    50067       90069         200  2021-03-19  AGA South  Elizabeth Holt   \n",
       "391    50068       90069         200  2021-03-24  AGA South  Elizabeth Holt   \n",
       "\n",
       "     CustomerGeoLat  CustomerGeoLon  \n",
       "0         -27.54249       153.09159  \n",
       "1         -27.54249       153.09159  \n",
       "2         -27.54249       153.09159  \n",
       "3         -27.54249       153.09159  \n",
       "4         -27.54249       153.09159  \n",
       "..              ...             ...  \n",
       "387       -27.42669       153.01789  \n",
       "388       -27.42669       153.01789  \n",
       "389       -27.42669       153.01789  \n",
       "390       -27.42669       153.01789  \n",
       "391       -27.42669       153.01789  \n",
       "\n",
       "[392 rows x 8 columns]"
      ]
     },
     "execution_count": 20,
     "metadata": {},
     "output_type": "execute_result"
    }
   ],
   "source": [
    "orderHeaderRequests"
   ]
  },
  {
   "cell_type": "markdown",
   "metadata": {},
   "source": [
    "# Top Order Requests by ProductType"
   ]
  },
  {
   "cell_type": "code",
   "execution_count": 21,
   "metadata": {},
   "outputs": [
    {
     "data": {
      "text/plain": [
       "ProductType\n",
       "BAKERY                569\n",
       "BAKING                235\n",
       "BEVERAGES              20\n",
       "CONDIMENTS            197\n",
       "COOKIES                35\n",
       "CRACKERS               34\n",
       "DELI_ITEM             261\n",
       "DIARY                 483\n",
       "DOUGH                  69\n",
       "FISH                  127\n",
       "FRESH_MEAT             67\n",
       "FRESH_POULTRY          76\n",
       "FROZEN_ITEM           348\n",
       "FRUIT                 358\n",
       "PASTA                  23\n",
       "PESTO                  30\n",
       "PROCESSED_MEAT        206\n",
       "PROCESSED_POULTRY     142\n",
       "SHELF_ITEM           1469\n",
       "SHELLFISH             162\n",
       "SMOKEDFISH             53\n",
       "SOY                   129\n",
       "VEGETABLES            651\n",
       "Name: OrderId, dtype: int64"
      ]
     },
     "execution_count": 21,
     "metadata": {},
     "output_type": "execute_result"
    }
   ],
   "source": [
    "orderItemsRequests.groupby('ProductType').count()['OrderId']"
   ]
  },
  {
   "cell_type": "code",
   "execution_count": 22,
   "metadata": {},
   "outputs": [
    {
     "data": {
      "text/plain": [
       "ProductItem\n",
       "Aerosol can, nondairy topping      16\n",
       "Aerosol can, real whipped cream    16\n",
       "Apples                             35\n",
       "Apricots                           31\n",
       "Artichokes, whole                  23\n",
       "                                   ..\n",
       "Water, bottled                     10\n",
       "Whipped, sweetened                 14\n",
       "Worcestershire Sauce               21\n",
       "Yeast, dry, packets and jars       13\n",
       "Yogurt                             17\n",
       "Name: OrderId, Length: 300, dtype: int64"
      ]
     },
     "execution_count": 22,
     "metadata": {},
     "output_type": "execute_result"
    }
   ],
   "source": [
    "orderItemsRequests.groupby('ProductItem').count()['OrderId']"
   ]
  },
  {
   "cell_type": "code",
   "execution_count": 23,
   "metadata": {},
   "outputs": [
    {
     "data": {
      "text/html": [
       "<div>\n",
       "<style scoped>\n",
       "    .dataframe tbody tr th:only-of-type {\n",
       "        vertical-align: middle;\n",
       "    }\n",
       "\n",
       "    .dataframe tbody tr th {\n",
       "        vertical-align: top;\n",
       "    }\n",
       "\n",
       "    .dataframe thead th {\n",
       "        text-align: right;\n",
       "    }\n",
       "</style>\n",
       "<table border=\"1\" class=\"dataframe\">\n",
       "  <thead>\n",
       "    <tr style=\"text-align: right;\">\n",
       "      <th></th>\n",
       "      <th>OrderId</th>\n",
       "      <th>OrderItemId</th>\n",
       "      <th>ProductType</th>\n",
       "      <th>ProductItem</th>\n",
       "      <th>ProductPeriod</th>\n",
       "      <th>ProductDetails</th>\n",
       "      <th>ProductStorage</th>\n",
       "      <th>Quantity</th>\n",
       "      <th>PartnerId</th>\n",
       "      <th>OrderTotal</th>\n",
       "      <th>OrderDate</th>\n",
       "      <th>PartnerName</th>\n",
       "      <th>PartnerGeoLat</th>\n",
       "      <th>PartnerGeoLon</th>\n",
       "    </tr>\n",
       "  </thead>\n",
       "  <tbody>\n",
       "    <tr>\n",
       "      <th>0</th>\n",
       "      <td>20051</td>\n",
       "      <td>1</td>\n",
       "      <td>DIARY</td>\n",
       "      <td>Cheese, processed slices</td>\n",
       "      <td>1-2 months</td>\n",
       "      <td>NaN</td>\n",
       "      <td>REFRIGERATED</td>\n",
       "      <td>105</td>\n",
       "      <td>190050</td>\n",
       "      <td>2000</td>\n",
       "      <td>2021-01-11</td>\n",
       "      <td>FoodieLand</td>\n",
       "      <td>-27.49079</td>\n",
       "      <td>153.06799</td>\n",
       "    </tr>\n",
       "    <tr>\n",
       "      <th>1</th>\n",
       "      <td>20051</td>\n",
       "      <td>1</td>\n",
       "      <td>DIARY</td>\n",
       "      <td>Cheese, processed slices</td>\n",
       "      <td>1-2 months</td>\n",
       "      <td>NaN</td>\n",
       "      <td>REFRIGERATED</td>\n",
       "      <td>105</td>\n",
       "      <td>190051</td>\n",
       "      <td>2000</td>\n",
       "      <td>2021-01-11</td>\n",
       "      <td>LoMarket</td>\n",
       "      <td>-27.53899</td>\n",
       "      <td>153.07429</td>\n",
       "    </tr>\n",
       "    <tr>\n",
       "      <th>2</th>\n",
       "      <td>20051</td>\n",
       "      <td>1</td>\n",
       "      <td>DIARY</td>\n",
       "      <td>Cheese, processed slices</td>\n",
       "      <td>1-2 months</td>\n",
       "      <td>NaN</td>\n",
       "      <td>REFRIGERATED</td>\n",
       "      <td>105</td>\n",
       "      <td>190052</td>\n",
       "      <td>2000</td>\n",
       "      <td>2021-01-11</td>\n",
       "      <td>Grocertown</td>\n",
       "      <td>-27.54099</td>\n",
       "      <td>153.04839</td>\n",
       "    </tr>\n",
       "    <tr>\n",
       "      <th>3</th>\n",
       "      <td>20051</td>\n",
       "      <td>2</td>\n",
       "      <td>DIARY</td>\n",
       "      <td>Eggs, in shell</td>\n",
       "      <td>3-5 weeks</td>\n",
       "      <td>NaN</td>\n",
       "      <td>REFRIGERATED</td>\n",
       "      <td>120</td>\n",
       "      <td>190050</td>\n",
       "      <td>2000</td>\n",
       "      <td>2021-01-11</td>\n",
       "      <td>FoodieLand</td>\n",
       "      <td>-27.49079</td>\n",
       "      <td>153.06799</td>\n",
       "    </tr>\n",
       "    <tr>\n",
       "      <th>4</th>\n",
       "      <td>20051</td>\n",
       "      <td>2</td>\n",
       "      <td>DIARY</td>\n",
       "      <td>Eggs, in shell</td>\n",
       "      <td>3-5 weeks</td>\n",
       "      <td>NaN</td>\n",
       "      <td>REFRIGERATED</td>\n",
       "      <td>120</td>\n",
       "      <td>190051</td>\n",
       "      <td>2000</td>\n",
       "      <td>2021-01-11</td>\n",
       "      <td>LoMarket</td>\n",
       "      <td>-27.53899</td>\n",
       "      <td>153.07429</td>\n",
       "    </tr>\n",
       "    <tr>\n",
       "      <th>...</th>\n",
       "      <td>...</td>\n",
       "      <td>...</td>\n",
       "      <td>...</td>\n",
       "      <td>...</td>\n",
       "      <td>...</td>\n",
       "      <td>...</td>\n",
       "      <td>...</td>\n",
       "      <td>...</td>\n",
       "      <td>...</td>\n",
       "      <td>...</td>\n",
       "      <td>...</td>\n",
       "      <td>...</td>\n",
       "      <td>...</td>\n",
       "      <td>...</td>\n",
       "    </tr>\n",
       "    <tr>\n",
       "      <th>27655</th>\n",
       "      <td>20139</td>\n",
       "      <td>38</td>\n",
       "      <td>BAKERY</td>\n",
       "      <td>Rolls, yeast, baked</td>\n",
       "      <td>1 week</td>\n",
       "      <td>NaN</td>\n",
       "      <td>REFRIGERATED</td>\n",
       "      <td>168</td>\n",
       "      <td>190051</td>\n",
       "      <td>2000</td>\n",
       "      <td>2021-04-09</td>\n",
       "      <td>LoMarket</td>\n",
       "      <td>-27.53899</td>\n",
       "      <td>153.07429</td>\n",
       "    </tr>\n",
       "    <tr>\n",
       "      <th>27656</th>\n",
       "      <td>20139</td>\n",
       "      <td>38</td>\n",
       "      <td>BAKERY</td>\n",
       "      <td>Rolls, yeast, baked</td>\n",
       "      <td>1 week</td>\n",
       "      <td>NaN</td>\n",
       "      <td>REFRIGERATED</td>\n",
       "      <td>168</td>\n",
       "      <td>190052</td>\n",
       "      <td>2000</td>\n",
       "      <td>2021-04-09</td>\n",
       "      <td>Grocertown</td>\n",
       "      <td>-27.54099</td>\n",
       "      <td>153.04839</td>\n",
       "    </tr>\n",
       "    <tr>\n",
       "      <th>27657</th>\n",
       "      <td>20139</td>\n",
       "      <td>39</td>\n",
       "      <td>PROCESSED_MEAT</td>\n",
       "      <td>Lunch meats, after opening</td>\n",
       "      <td>3-5 days</td>\n",
       "      <td>NaN</td>\n",
       "      <td>REFRIGERATED</td>\n",
       "      <td>168</td>\n",
       "      <td>190050</td>\n",
       "      <td>2000</td>\n",
       "      <td>2021-04-09</td>\n",
       "      <td>FoodieLand</td>\n",
       "      <td>-27.49079</td>\n",
       "      <td>153.06799</td>\n",
       "    </tr>\n",
       "    <tr>\n",
       "      <th>27658</th>\n",
       "      <td>20139</td>\n",
       "      <td>39</td>\n",
       "      <td>PROCESSED_MEAT</td>\n",
       "      <td>Lunch meats, after opening</td>\n",
       "      <td>3-5 days</td>\n",
       "      <td>NaN</td>\n",
       "      <td>REFRIGERATED</td>\n",
       "      <td>168</td>\n",
       "      <td>190051</td>\n",
       "      <td>2000</td>\n",
       "      <td>2021-04-09</td>\n",
       "      <td>LoMarket</td>\n",
       "      <td>-27.53899</td>\n",
       "      <td>153.07429</td>\n",
       "    </tr>\n",
       "    <tr>\n",
       "      <th>27659</th>\n",
       "      <td>20139</td>\n",
       "      <td>39</td>\n",
       "      <td>PROCESSED_MEAT</td>\n",
       "      <td>Lunch meats, after opening</td>\n",
       "      <td>3-5 days</td>\n",
       "      <td>NaN</td>\n",
       "      <td>REFRIGERATED</td>\n",
       "      <td>168</td>\n",
       "      <td>190052</td>\n",
       "      <td>2000</td>\n",
       "      <td>2021-04-09</td>\n",
       "      <td>Grocertown</td>\n",
       "      <td>-27.54099</td>\n",
       "      <td>153.04839</td>\n",
       "    </tr>\n",
       "  </tbody>\n",
       "</table>\n",
       "<p>27660 rows × 14 columns</p>\n",
       "</div>"
      ],
      "text/plain": [
       "       OrderId  OrderItemId     ProductType                 ProductItem  \\\n",
       "0        20051            1           DIARY    Cheese, processed slices   \n",
       "1        20051            1           DIARY    Cheese, processed slices   \n",
       "2        20051            1           DIARY    Cheese, processed slices   \n",
       "3        20051            2           DIARY              Eggs, in shell   \n",
       "4        20051            2           DIARY              Eggs, in shell   \n",
       "...        ...          ...             ...                         ...   \n",
       "27655    20139           38          BAKERY         Rolls, yeast, baked   \n",
       "27656    20139           38          BAKERY         Rolls, yeast, baked   \n",
       "27657    20139           39  PROCESSED_MEAT  Lunch meats, after opening   \n",
       "27658    20139           39  PROCESSED_MEAT  Lunch meats, after opening   \n",
       "27659    20139           39  PROCESSED_MEAT  Lunch meats, after opening   \n",
       "\n",
       "      ProductPeriod ProductDetails ProductStorage  Quantity  PartnerId  \\\n",
       "0        1-2 months            NaN   REFRIGERATED       105     190050   \n",
       "1        1-2 months            NaN   REFRIGERATED       105     190051   \n",
       "2        1-2 months            NaN   REFRIGERATED       105     190052   \n",
       "3         3-5 weeks            NaN   REFRIGERATED       120     190050   \n",
       "4         3-5 weeks            NaN   REFRIGERATED       120     190051   \n",
       "...             ...            ...            ...       ...        ...   \n",
       "27655        1 week            NaN   REFRIGERATED       168     190051   \n",
       "27656        1 week            NaN   REFRIGERATED       168     190052   \n",
       "27657      3-5 days            NaN   REFRIGERATED       168     190050   \n",
       "27658      3-5 days            NaN   REFRIGERATED       168     190051   \n",
       "27659      3-5 days            NaN   REFRIGERATED       168     190052   \n",
       "\n",
       "       OrderTotal   OrderDate PartnerName  PartnerGeoLat  PartnerGeoLon  \n",
       "0            2000  2021-01-11  FoodieLand      -27.49079      153.06799  \n",
       "1            2000  2021-01-11    LoMarket      -27.53899      153.07429  \n",
       "2            2000  2021-01-11  Grocertown      -27.54099      153.04839  \n",
       "3            2000  2021-01-11  FoodieLand      -27.49079      153.06799  \n",
       "4            2000  2021-01-11    LoMarket      -27.53899      153.07429  \n",
       "...           ...         ...         ...            ...            ...  \n",
       "27655        2000  2021-04-09    LoMarket      -27.53899      153.07429  \n",
       "27656        2000  2021-04-09  Grocertown      -27.54099      153.04839  \n",
       "27657        2000  2021-04-09  FoodieLand      -27.49079      153.06799  \n",
       "27658        2000  2021-04-09    LoMarket      -27.53899      153.07429  \n",
       "27659        2000  2021-04-09  Grocertown      -27.54099      153.04839  \n",
       "\n",
       "[27660 rows x 14 columns]"
      ]
     },
     "execution_count": 23,
     "metadata": {},
     "output_type": "execute_result"
    }
   ],
   "source": [
    "df_merged_donations = orderItemsDonations.merge(orderHeaderDonations,on='OrderId')\n",
    "df_merged_donations"
   ]
  },
  {
   "cell_type": "code",
   "execution_count": null,
   "metadata": {},
   "outputs": [],
   "source": []
  },
  {
   "cell_type": "code",
   "execution_count": 24,
   "metadata": {},
   "outputs": [
    {
     "data": {
      "text/html": [
       "<div>\n",
       "<style scoped>\n",
       "    .dataframe tbody tr th:only-of-type {\n",
       "        vertical-align: middle;\n",
       "    }\n",
       "\n",
       "    .dataframe tbody tr th {\n",
       "        vertical-align: top;\n",
       "    }\n",
       "\n",
       "    .dataframe thead th {\n",
       "        text-align: right;\n",
       "    }\n",
       "</style>\n",
       "<table border=\"1\" class=\"dataframe\">\n",
       "  <thead>\n",
       "    <tr style=\"text-align: right;\">\n",
       "      <th></th>\n",
       "      <th>OrderId</th>\n",
       "      <th>OrderItemId</th>\n",
       "      <th>ProductType</th>\n",
       "      <th>ProductItem</th>\n",
       "      <th>ProductPeriod</th>\n",
       "      <th>ProductDetails</th>\n",
       "      <th>ProductStorage</th>\n",
       "      <th>CustomerId</th>\n",
       "      <th>OrderTotal</th>\n",
       "      <th>OrderDate</th>\n",
       "      <th>Location</th>\n",
       "      <th>CustomerName</th>\n",
       "      <th>CustomerGeoLat</th>\n",
       "      <th>CustomerGeoLon</th>\n",
       "    </tr>\n",
       "  </thead>\n",
       "  <tbody>\n",
       "    <tr>\n",
       "      <th>0</th>\n",
       "      <td>50050</td>\n",
       "      <td>1</td>\n",
       "      <td>DIARY</td>\n",
       "      <td>Eggs, in shell</td>\n",
       "      <td>NaN</td>\n",
       "      <td>Do not freeze</td>\n",
       "      <td>FROZEN</td>\n",
       "      <td>90050</td>\n",
       "      <td>200</td>\n",
       "      <td>2021-01-10</td>\n",
       "      <td>AGA North</td>\n",
       "      <td>Mark Burton</td>\n",
       "      <td>-27.54249</td>\n",
       "      <td>153.09159</td>\n",
       "    </tr>\n",
       "    <tr>\n",
       "      <th>1</th>\n",
       "      <td>50050</td>\n",
       "      <td>1</td>\n",
       "      <td>DIARY</td>\n",
       "      <td>Eggs, in shell</td>\n",
       "      <td>NaN</td>\n",
       "      <td>Do not freeze</td>\n",
       "      <td>FROZEN</td>\n",
       "      <td>90051</td>\n",
       "      <td>200</td>\n",
       "      <td>2021-01-10</td>\n",
       "      <td>AGA East</td>\n",
       "      <td>Matthew Melendez</td>\n",
       "      <td>-27.41269</td>\n",
       "      <td>153.07349</td>\n",
       "    </tr>\n",
       "    <tr>\n",
       "      <th>2</th>\n",
       "      <td>50050</td>\n",
       "      <td>1</td>\n",
       "      <td>DIARY</td>\n",
       "      <td>Eggs, in shell</td>\n",
       "      <td>NaN</td>\n",
       "      <td>Do not freeze</td>\n",
       "      <td>FROZEN</td>\n",
       "      <td>90052</td>\n",
       "      <td>200</td>\n",
       "      <td>2021-01-14</td>\n",
       "      <td>AGA South</td>\n",
       "      <td>Steven Hicks</td>\n",
       "      <td>-27.53449</td>\n",
       "      <td>153.01259</td>\n",
       "    </tr>\n",
       "    <tr>\n",
       "      <th>3</th>\n",
       "      <td>50050</td>\n",
       "      <td>1</td>\n",
       "      <td>DIARY</td>\n",
       "      <td>Eggs, in shell</td>\n",
       "      <td>NaN</td>\n",
       "      <td>Do not freeze</td>\n",
       "      <td>FROZEN</td>\n",
       "      <td>90053</td>\n",
       "      <td>200</td>\n",
       "      <td>2021-01-10</td>\n",
       "      <td>AGA West</td>\n",
       "      <td>Joseph Smith</td>\n",
       "      <td>-27.47359</td>\n",
       "      <td>153.03659</td>\n",
       "    </tr>\n",
       "    <tr>\n",
       "      <th>4</th>\n",
       "      <td>50050</td>\n",
       "      <td>1</td>\n",
       "      <td>DIARY</td>\n",
       "      <td>Eggs, in shell</td>\n",
       "      <td>NaN</td>\n",
       "      <td>Do not freeze</td>\n",
       "      <td>FROZEN</td>\n",
       "      <td>90054</td>\n",
       "      <td>200</td>\n",
       "      <td>2021-01-10</td>\n",
       "      <td>AGA North</td>\n",
       "      <td>Amanda Rodriguez</td>\n",
       "      <td>-27.45979</td>\n",
       "      <td>152.97019</td>\n",
       "    </tr>\n",
       "    <tr>\n",
       "      <th>...</th>\n",
       "      <td>...</td>\n",
       "      <td>...</td>\n",
       "      <td>...</td>\n",
       "      <td>...</td>\n",
       "      <td>...</td>\n",
       "      <td>...</td>\n",
       "      <td>...</td>\n",
       "      <td>...</td>\n",
       "      <td>...</td>\n",
       "      <td>...</td>\n",
       "      <td>...</td>\n",
       "      <td>...</td>\n",
       "      <td>...</td>\n",
       "      <td>...</td>\n",
       "    </tr>\n",
       "    <tr>\n",
       "      <th>97470</th>\n",
       "      <td>50077</td>\n",
       "      <td>14</td>\n",
       "      <td>SHELF_ITEM</td>\n",
       "      <td>Soda such as carbonated cola drinks, mixers: d...</td>\n",
       "      <td>2-3 days</td>\n",
       "      <td>opened</td>\n",
       "      <td>REFRIGERATED</td>\n",
       "      <td>90060</td>\n",
       "      <td>200</td>\n",
       "      <td>2021-04-02</td>\n",
       "      <td>AGA HQ</td>\n",
       "      <td>Curtis White</td>\n",
       "      <td>-27.42379</td>\n",
       "      <td>153.09029</td>\n",
       "    </tr>\n",
       "    <tr>\n",
       "      <th>97471</th>\n",
       "      <td>50077</td>\n",
       "      <td>15</td>\n",
       "      <td>VEGETABLES</td>\n",
       "      <td>Parsley, cilantro</td>\n",
       "      <td>1-2 months</td>\n",
       "      <td>NaN</td>\n",
       "      <td>FROZEN</td>\n",
       "      <td>90060</td>\n",
       "      <td>200</td>\n",
       "      <td>2021-04-02</td>\n",
       "      <td>AGA HQ</td>\n",
       "      <td>Curtis White</td>\n",
       "      <td>-27.42379</td>\n",
       "      <td>153.09029</td>\n",
       "    </tr>\n",
       "    <tr>\n",
       "      <th>97472</th>\n",
       "      <td>50077</td>\n",
       "      <td>16</td>\n",
       "      <td>DIARY</td>\n",
       "      <td>Eggnog, commercial</td>\n",
       "      <td>3-5 days</td>\n",
       "      <td>NaN</td>\n",
       "      <td>REFRIGERATED</td>\n",
       "      <td>90060</td>\n",
       "      <td>200</td>\n",
       "      <td>2021-04-02</td>\n",
       "      <td>AGA HQ</td>\n",
       "      <td>Curtis White</td>\n",
       "      <td>-27.42379</td>\n",
       "      <td>153.09029</td>\n",
       "    </tr>\n",
       "    <tr>\n",
       "      <th>97473</th>\n",
       "      <td>50077</td>\n",
       "      <td>17</td>\n",
       "      <td>DIARY</td>\n",
       "      <td>Margarine</td>\n",
       "      <td>12 months</td>\n",
       "      <td>NaN</td>\n",
       "      <td>FROZEN</td>\n",
       "      <td>90060</td>\n",
       "      <td>200</td>\n",
       "      <td>2021-04-02</td>\n",
       "      <td>AGA HQ</td>\n",
       "      <td>Curtis White</td>\n",
       "      <td>-27.42379</td>\n",
       "      <td>153.09029</td>\n",
       "    </tr>\n",
       "    <tr>\n",
       "      <th>97474</th>\n",
       "      <td>50077</td>\n",
       "      <td>18</td>\n",
       "      <td>SHELF_ITEM</td>\n",
       "      <td>Soda such as carbonated cola drinks, mixers: r...</td>\n",
       "      <td>9 mos. after date</td>\n",
       "      <td>unopened</td>\n",
       "      <td>SHELF</td>\n",
       "      <td>90060</td>\n",
       "      <td>200</td>\n",
       "      <td>2021-04-02</td>\n",
       "      <td>AGA HQ</td>\n",
       "      <td>Curtis White</td>\n",
       "      <td>-27.42379</td>\n",
       "      <td>153.09029</td>\n",
       "    </tr>\n",
       "  </tbody>\n",
       "</table>\n",
       "<p>97475 rows × 14 columns</p>\n",
       "</div>"
      ],
      "text/plain": [
       "       OrderId  OrderItemId ProductType  \\\n",
       "0        50050            1       DIARY   \n",
       "1        50050            1       DIARY   \n",
       "2        50050            1       DIARY   \n",
       "3        50050            1       DIARY   \n",
       "4        50050            1       DIARY   \n",
       "...        ...          ...         ...   \n",
       "97470    50077           14  SHELF_ITEM   \n",
       "97471    50077           15  VEGETABLES   \n",
       "97472    50077           16       DIARY   \n",
       "97473    50077           17       DIARY   \n",
       "97474    50077           18  SHELF_ITEM   \n",
       "\n",
       "                                             ProductItem      ProductPeriod  \\\n",
       "0                                         Eggs, in shell                NaN   \n",
       "1                                         Eggs, in shell                NaN   \n",
       "2                                         Eggs, in shell                NaN   \n",
       "3                                         Eggs, in shell                NaN   \n",
       "4                                         Eggs, in shell                NaN   \n",
       "...                                                  ...                ...   \n",
       "97470  Soda such as carbonated cola drinks, mixers: d...           2-3 days   \n",
       "97471                                  Parsley, cilantro         1-2 months   \n",
       "97472                                 Eggnog, commercial           3-5 days   \n",
       "97473                                          Margarine          12 months   \n",
       "97474  Soda such as carbonated cola drinks, mixers: r...  9 mos. after date   \n",
       "\n",
       "      ProductDetails ProductStorage  CustomerId  OrderTotal   OrderDate  \\\n",
       "0      Do not freeze         FROZEN       90050         200  2021-01-10   \n",
       "1      Do not freeze         FROZEN       90051         200  2021-01-10   \n",
       "2      Do not freeze         FROZEN       90052         200  2021-01-14   \n",
       "3      Do not freeze         FROZEN       90053         200  2021-01-10   \n",
       "4      Do not freeze         FROZEN       90054         200  2021-01-10   \n",
       "...              ...            ...         ...         ...         ...   \n",
       "97470         opened   REFRIGERATED       90060         200  2021-04-02   \n",
       "97471            NaN         FROZEN       90060         200  2021-04-02   \n",
       "97472            NaN   REFRIGERATED       90060         200  2021-04-02   \n",
       "97473            NaN         FROZEN       90060         200  2021-04-02   \n",
       "97474       unopened          SHELF       90060         200  2021-04-02   \n",
       "\n",
       "        Location      CustomerName  CustomerGeoLat  CustomerGeoLon  \n",
       "0      AGA North       Mark Burton       -27.54249       153.09159  \n",
       "1       AGA East  Matthew Melendez       -27.41269       153.07349  \n",
       "2      AGA South      Steven Hicks       -27.53449       153.01259  \n",
       "3       AGA West      Joseph Smith       -27.47359       153.03659  \n",
       "4      AGA North  Amanda Rodriguez       -27.45979       152.97019  \n",
       "...          ...               ...             ...             ...  \n",
       "97470     AGA HQ      Curtis White       -27.42379       153.09029  \n",
       "97471     AGA HQ      Curtis White       -27.42379       153.09029  \n",
       "97472     AGA HQ      Curtis White       -27.42379       153.09029  \n",
       "97473     AGA HQ      Curtis White       -27.42379       153.09029  \n",
       "97474     AGA HQ      Curtis White       -27.42379       153.09029  \n",
       "\n",
       "[97475 rows x 14 columns]"
      ]
     },
     "execution_count": 24,
     "metadata": {},
     "output_type": "execute_result"
    }
   ],
   "source": [
    "df_merged_requests = orderItemsRequests.merge(orderHeaderRequests,on='OrderId')\n",
    "df_merged_requests"
   ]
  },
  {
   "cell_type": "code",
   "execution_count": null,
   "metadata": {},
   "outputs": [],
   "source": []
  },
  {
   "cell_type": "markdown",
   "metadata": {},
   "source": [
    "# merge header requests with item requests on OrderId"
   ]
  },
  {
   "cell_type": "code",
   "execution_count": null,
   "metadata": {},
   "outputs": [],
   "source": []
  },
  {
   "cell_type": "markdown",
   "metadata": {},
   "source": [
    "# Delta - Wastage "
   ]
  },
  {
   "cell_type": "code",
   "execution_count": null,
   "metadata": {},
   "outputs": [],
   "source": []
  },
  {
   "cell_type": "markdown",
   "id": "4217409d",
   "metadata": {},
   "source": [
    "# Importing Modules\n"
   ]
  },
  {
   "cell_type": "code",
   "execution_count": 25,
   "id": "a3c557d5",
   "metadata": {},
   "outputs": [],
   "source": [
    "%matplotlib inline"
   ]
  },
  {
   "cell_type": "code",
   "execution_count": 26,
   "id": "2357dc02",
   "metadata": {},
   "outputs": [],
   "source": [
    "import warnings\n",
    "warnings.filterwarnings(\"ignore\")"
   ]
  },
  {
   "cell_type": "code",
   "execution_count": 27,
   "id": "0420abbb",
   "metadata": {},
   "outputs": [],
   "source": [
    "# from sklearn.preprocessing import StandardScaler\n",
    "# from sklearn.cluster import KMeans\n",
    "# from sklearn.decomposition import PCA\n",
    "# from sklearn.metrics.pairwise import cosine_similarity\n",
    "# import pandas as pd\n",
    "# import matplotlib.pyplot as plt\n",
    "# import seaborn as sns\n",
    "# from pandas_profiling import ProfileReport\n",
    "# from kmodes.kprototypes import KPrototypes\n",
    "# from tqdm import tqdm"
   ]
  },
  {
   "cell_type": "markdown",
   "id": "75613891",
   "metadata": {},
   "source": [
    "# Loading Data"
   ]
  },
  {
   "cell_type": "code",
   "execution_count": 28,
   "metadata": {},
   "outputs": [],
   "source": [
    "df_merged_donations['OrderDate']= pd.to_datetime(df_merged_donations['OrderDate'])"
   ]
  },
  {
   "cell_type": "code",
   "execution_count": 29,
   "metadata": {},
   "outputs": [],
   "source": [
    "# extracting day from date"
   ]
  },
  {
   "cell_type": "code",
   "execution_count": 30,
   "metadata": {},
   "outputs": [],
   "source": [
    "import datetime\n",
    "df_merged_donations['weekday'] = pd.Series(df_merged_donations.OrderDate).dt.day_name()"
   ]
  },
  {
   "cell_type": "code",
   "execution_count": 31,
   "metadata": {},
   "outputs": [
    {
     "name": "stdout",
     "output_type": "stream",
     "text": [
      "<class 'pandas.core.frame.DataFrame'>\n",
      "Int64Index: 27660 entries, 0 to 27659\n",
      "Data columns (total 15 columns):\n",
      " #   Column          Non-Null Count  Dtype         \n",
      "---  ------          --------------  -----         \n",
      " 0   OrderId         27660 non-null  int64         \n",
      " 1   OrderItemId     27660 non-null  int64         \n",
      " 2   ProductType     27660 non-null  object        \n",
      " 3   ProductItem     27660 non-null  object        \n",
      " 4   ProductPeriod   26151 non-null  object        \n",
      " 5   ProductDetails  6099 non-null   object        \n",
      " 6   ProductStorage  27660 non-null  object        \n",
      " 7   Quantity        27660 non-null  int64         \n",
      " 8   PartnerId       27660 non-null  int64         \n",
      " 9   OrderTotal      27660 non-null  int64         \n",
      " 10  OrderDate       27660 non-null  datetime64[ns]\n",
      " 11  PartnerName     27660 non-null  object        \n",
      " 12  PartnerGeoLat   27660 non-null  float64       \n",
      " 13  PartnerGeoLon   27660 non-null  float64       \n",
      " 14  weekday         27660 non-null  object        \n",
      "dtypes: datetime64[ns](1), float64(2), int64(5), object(7)\n",
      "memory usage: 3.4+ MB\n"
     ]
    }
   ],
   "source": [
    "df_merged_donations.info()"
   ]
  },
  {
   "cell_type": "code",
   "execution_count": 32,
   "metadata": {},
   "outputs": [
    {
     "data": {
      "text/plain": [
       "array(['Monday', 'Tuesday', 'Wednesday', 'Thursday', 'Friday', 'Saturday',\n",
       "       'Sunday'], dtype=object)"
      ]
     },
     "execution_count": 32,
     "metadata": {},
     "output_type": "execute_result"
    }
   ],
   "source": [
    "df_merged_donations.weekday.unique()"
   ]
  },
  {
   "cell_type": "code",
   "execution_count": 33,
   "id": "3ef1f39a",
   "metadata": {
    "scrolled": false
   },
   "outputs": [
    {
     "data": {
      "text/html": [
       "<div>\n",
       "<style scoped>\n",
       "    .dataframe tbody tr th:only-of-type {\n",
       "        vertical-align: middle;\n",
       "    }\n",
       "\n",
       "    .dataframe tbody tr th {\n",
       "        vertical-align: top;\n",
       "    }\n",
       "\n",
       "    .dataframe thead th {\n",
       "        text-align: right;\n",
       "    }\n",
       "</style>\n",
       "<table border=\"1\" class=\"dataframe\">\n",
       "  <thead>\n",
       "    <tr style=\"text-align: right;\">\n",
       "      <th></th>\n",
       "      <th>OrderId</th>\n",
       "      <th>OrderItemId</th>\n",
       "      <th>ProductType</th>\n",
       "      <th>ProductItem</th>\n",
       "      <th>ProductPeriod</th>\n",
       "      <th>ProductDetails</th>\n",
       "      <th>ProductStorage</th>\n",
       "      <th>Quantity</th>\n",
       "      <th>PartnerId</th>\n",
       "      <th>OrderTotal</th>\n",
       "      <th>OrderDate</th>\n",
       "      <th>PartnerName</th>\n",
       "      <th>PartnerGeoLat</th>\n",
       "      <th>PartnerGeoLon</th>\n",
       "      <th>weekday</th>\n",
       "    </tr>\n",
       "  </thead>\n",
       "  <tbody>\n",
       "    <tr>\n",
       "      <th>0</th>\n",
       "      <td>20051</td>\n",
       "      <td>1</td>\n",
       "      <td>DIARY</td>\n",
       "      <td>Cheese, processed slices</td>\n",
       "      <td>1-2 months</td>\n",
       "      <td>NaN</td>\n",
       "      <td>REFRIGERATED</td>\n",
       "      <td>105</td>\n",
       "      <td>190050</td>\n",
       "      <td>2000</td>\n",
       "      <td>2021-01-11</td>\n",
       "      <td>FoodieLand</td>\n",
       "      <td>-27.49079</td>\n",
       "      <td>153.06799</td>\n",
       "      <td>Monday</td>\n",
       "    </tr>\n",
       "    <tr>\n",
       "      <th>1</th>\n",
       "      <td>20051</td>\n",
       "      <td>1</td>\n",
       "      <td>DIARY</td>\n",
       "      <td>Cheese, processed slices</td>\n",
       "      <td>1-2 months</td>\n",
       "      <td>NaN</td>\n",
       "      <td>REFRIGERATED</td>\n",
       "      <td>105</td>\n",
       "      <td>190051</td>\n",
       "      <td>2000</td>\n",
       "      <td>2021-01-11</td>\n",
       "      <td>LoMarket</td>\n",
       "      <td>-27.53899</td>\n",
       "      <td>153.07429</td>\n",
       "      <td>Monday</td>\n",
       "    </tr>\n",
       "  </tbody>\n",
       "</table>\n",
       "</div>"
      ],
      "text/plain": [
       "   OrderId  OrderItemId ProductType               ProductItem ProductPeriod  \\\n",
       "0    20051            1       DIARY  Cheese, processed slices    1-2 months   \n",
       "1    20051            1       DIARY  Cheese, processed slices    1-2 months   \n",
       "\n",
       "  ProductDetails ProductStorage  Quantity  PartnerId  OrderTotal  OrderDate  \\\n",
       "0            NaN   REFRIGERATED       105     190050        2000 2021-01-11   \n",
       "1            NaN   REFRIGERATED       105     190051        2000 2021-01-11   \n",
       "\n",
       "  PartnerName  PartnerGeoLat  PartnerGeoLon weekday  \n",
       "0  FoodieLand      -27.49079      153.06799  Monday  \n",
       "1    LoMarket      -27.53899      153.07429  Monday  "
      ]
     },
     "execution_count": 33,
     "metadata": {},
     "output_type": "execute_result"
    }
   ],
   "source": [
    "df_merged_donations.head(2)"
   ]
  },
  {
   "cell_type": "code",
   "execution_count": 34,
   "id": "45ab28bb",
   "metadata": {},
   "outputs": [
    {
     "data": {
      "text/plain": [
       "(27660, 15)"
      ]
     },
     "execution_count": 34,
     "metadata": {},
     "output_type": "execute_result"
    }
   ],
   "source": [
    "df_merged_donations.shape"
   ]
  },
  {
   "cell_type": "code",
   "execution_count": 35,
   "metadata": {},
   "outputs": [],
   "source": [
    "# for i,j in zip(range(len(df_merged_donations.weekday)),df_merged_donations.weekday):\n",
    "#     if j in ['Saturday','Sunday']:\n",
    "#         df_merged_donations.weekday[i] = 'Weekend'\n",
    "#     else:\n",
    "#         df_merged_donations.weekday[i] = 'Weekday'"
   ]
  },
  {
   "cell_type": "code",
   "execution_count": 36,
   "metadata": {},
   "outputs": [
    {
     "data": {
      "text/plain": [
       "array(['Monday', 'Tuesday', 'Wednesday', 'Thursday', 'Friday', 'Saturday',\n",
       "       'Sunday'], dtype=object)"
      ]
     },
     "execution_count": 36,
     "metadata": {},
     "output_type": "execute_result"
    }
   ],
   "source": [
    "df_merged_donations.weekday.unique()"
   ]
  },
  {
   "cell_type": "markdown",
   "metadata": {},
   "source": [
    "# dropping unnecessary column"
   ]
  },
  {
   "cell_type": "code",
   "execution_count": 37,
   "metadata": {},
   "outputs": [],
   "source": [
    "drop_col= ['OrderId', 'OrderItemId', 'PartnerId','PartnerGeoLat', 'PartnerGeoLon','OrderDate']"
   ]
  },
  {
   "cell_type": "code",
   "execution_count": 38,
   "id": "54c87d59",
   "metadata": {},
   "outputs": [],
   "source": [
    "df_merged_donations= df_merged_donations.drop(drop_col,axis=1)"
   ]
  },
  {
   "cell_type": "code",
   "execution_count": 39,
   "id": "39d1f413",
   "metadata": {
    "scrolled": false
   },
   "outputs": [
    {
     "data": {
      "text/html": [
       "<div>\n",
       "<style scoped>\n",
       "    .dataframe tbody tr th:only-of-type {\n",
       "        vertical-align: middle;\n",
       "    }\n",
       "\n",
       "    .dataframe tbody tr th {\n",
       "        vertical-align: top;\n",
       "    }\n",
       "\n",
       "    .dataframe thead th {\n",
       "        text-align: right;\n",
       "    }\n",
       "</style>\n",
       "<table border=\"1\" class=\"dataframe\">\n",
       "  <thead>\n",
       "    <tr style=\"text-align: right;\">\n",
       "      <th></th>\n",
       "      <th>ProductType</th>\n",
       "      <th>ProductItem</th>\n",
       "      <th>ProductPeriod</th>\n",
       "      <th>ProductDetails</th>\n",
       "      <th>ProductStorage</th>\n",
       "      <th>Quantity</th>\n",
       "      <th>OrderTotal</th>\n",
       "      <th>PartnerName</th>\n",
       "      <th>weekday</th>\n",
       "    </tr>\n",
       "  </thead>\n",
       "  <tbody>\n",
       "    <tr>\n",
       "      <th>0</th>\n",
       "      <td>DIARY</td>\n",
       "      <td>Cheese, processed slices</td>\n",
       "      <td>1-2 months</td>\n",
       "      <td>NaN</td>\n",
       "      <td>REFRIGERATED</td>\n",
       "      <td>105</td>\n",
       "      <td>2000</td>\n",
       "      <td>FoodieLand</td>\n",
       "      <td>Monday</td>\n",
       "    </tr>\n",
       "    <tr>\n",
       "      <th>1</th>\n",
       "      <td>DIARY</td>\n",
       "      <td>Cheese, processed slices</td>\n",
       "      <td>1-2 months</td>\n",
       "      <td>NaN</td>\n",
       "      <td>REFRIGERATED</td>\n",
       "      <td>105</td>\n",
       "      <td>2000</td>\n",
       "      <td>LoMarket</td>\n",
       "      <td>Monday</td>\n",
       "    </tr>\n",
       "    <tr>\n",
       "      <th>2</th>\n",
       "      <td>DIARY</td>\n",
       "      <td>Cheese, processed slices</td>\n",
       "      <td>1-2 months</td>\n",
       "      <td>NaN</td>\n",
       "      <td>REFRIGERATED</td>\n",
       "      <td>105</td>\n",
       "      <td>2000</td>\n",
       "      <td>Grocertown</td>\n",
       "      <td>Monday</td>\n",
       "    </tr>\n",
       "    <tr>\n",
       "      <th>3</th>\n",
       "      <td>DIARY</td>\n",
       "      <td>Eggs, in shell</td>\n",
       "      <td>3-5 weeks</td>\n",
       "      <td>NaN</td>\n",
       "      <td>REFRIGERATED</td>\n",
       "      <td>120</td>\n",
       "      <td>2000</td>\n",
       "      <td>FoodieLand</td>\n",
       "      <td>Monday</td>\n",
       "    </tr>\n",
       "    <tr>\n",
       "      <th>4</th>\n",
       "      <td>DIARY</td>\n",
       "      <td>Eggs, in shell</td>\n",
       "      <td>3-5 weeks</td>\n",
       "      <td>NaN</td>\n",
       "      <td>REFRIGERATED</td>\n",
       "      <td>120</td>\n",
       "      <td>2000</td>\n",
       "      <td>LoMarket</td>\n",
       "      <td>Monday</td>\n",
       "    </tr>\n",
       "  </tbody>\n",
       "</table>\n",
       "</div>"
      ],
      "text/plain": [
       "  ProductType               ProductItem ProductPeriod ProductDetails  \\\n",
       "0       DIARY  Cheese, processed slices    1-2 months            NaN   \n",
       "1       DIARY  Cheese, processed slices    1-2 months            NaN   \n",
       "2       DIARY  Cheese, processed slices    1-2 months            NaN   \n",
       "3       DIARY            Eggs, in shell     3-5 weeks            NaN   \n",
       "4       DIARY            Eggs, in shell     3-5 weeks            NaN   \n",
       "\n",
       "  ProductStorage  Quantity  OrderTotal PartnerName weekday  \n",
       "0   REFRIGERATED       105        2000  FoodieLand  Monday  \n",
       "1   REFRIGERATED       105        2000    LoMarket  Monday  \n",
       "2   REFRIGERATED       105        2000  Grocertown  Monday  \n",
       "3   REFRIGERATED       120        2000  FoodieLand  Monday  \n",
       "4   REFRIGERATED       120        2000    LoMarket  Monday  "
      ]
     },
     "execution_count": 39,
     "metadata": {},
     "output_type": "execute_result"
    }
   ],
   "source": [
    "df_merged_donations.head()"
   ]
  },
  {
   "cell_type": "code",
   "execution_count": 40,
   "id": "cd8a6f2d",
   "metadata": {},
   "outputs": [],
   "source": [
    "df_merged_donations= df_merged_donations.dropna(thresh=df_merged_donations.shape[0]*0.7,how='all',axis=1)"
   ]
  },
  {
   "cell_type": "markdown",
   "metadata": {},
   "source": [
    "# converting Productperiod into days"
   ]
  },
  {
   "cell_type": "code",
   "execution_count": 41,
   "metadata": {},
   "outputs": [],
   "source": [
    "def period_conversion(i):\n",
    "    if i!= np.nan:\n",
    "        \n",
    "        if re.search(r'month', str(i)):\n",
    "            a = re.findall(r'\\d+',i)\n",
    "            a = [ int(x) for x in a ]\n",
    "            days = (np.mean(a))*30\n",
    "            return days\n",
    "\n",
    "        elif re.search(r'week', str(i)):\n",
    "            a = re.findall(r'\\d+',i)\n",
    "            a = [ int(x) for x in a ]\n",
    "            days = (np.mean(a))*7\n",
    "            return days\n",
    "\n",
    "        elif re.search(r'day', str(i)):\n",
    "            a = re.findall(r'\\d+',i)\n",
    "            a = [ int(x) for x in a ]\n",
    "            days = (np.mean(a))\n",
    "            return days \n",
    "\n",
    "        elif re.search(r'year', str(i)):\n",
    "            a = re.findall(r'\\d+',i)\n",
    "            a = [ int(x) for x in a ]\n",
    "            days = (np.mean(a))*365\n",
    "            return days \n",
    "        else :\n",
    "            pass"
   ]
  },
  {
   "cell_type": "code",
   "execution_count": 42,
   "metadata": {},
   "outputs": [
    {
     "name": "stdout",
     "output_type": "stream",
     "text": [
      "Requirement already satisfied: regex in /opt/conda/lib/python3.9/site-packages (2021.11.1)\n",
      "Note: you may need to restart the kernel to use updated packages.\n"
     ]
    }
   ],
   "source": [
    "pip install regex"
   ]
  },
  {
   "cell_type": "code",
   "execution_count": 43,
   "metadata": {},
   "outputs": [],
   "source": [
    "import numpy as np\n",
    "import regex as re"
   ]
  },
  {
   "cell_type": "code",
   "execution_count": 44,
   "id": "ed7c883d",
   "metadata": {},
   "outputs": [],
   "source": [
    "df_merged_donations['period'] = df_merged_donations['ProductPeriod'].apply(lambda x : period_conversion(x) )"
   ]
  },
  {
   "cell_type": "code",
   "execution_count": 45,
   "metadata": {},
   "outputs": [],
   "source": [
    "df_merged_donations = df_merged_donations.drop('ProductPeriod',axis = 1)"
   ]
  },
  {
   "cell_type": "code",
   "execution_count": 46,
   "metadata": {},
   "outputs": [
    {
     "data": {
      "text/html": [
       "<div>\n",
       "<style scoped>\n",
       "    .dataframe tbody tr th:only-of-type {\n",
       "        vertical-align: middle;\n",
       "    }\n",
       "\n",
       "    .dataframe tbody tr th {\n",
       "        vertical-align: top;\n",
       "    }\n",
       "\n",
       "    .dataframe thead th {\n",
       "        text-align: right;\n",
       "    }\n",
       "</style>\n",
       "<table border=\"1\" class=\"dataframe\">\n",
       "  <thead>\n",
       "    <tr style=\"text-align: right;\">\n",
       "      <th></th>\n",
       "      <th>ProductType</th>\n",
       "      <th>ProductItem</th>\n",
       "      <th>ProductStorage</th>\n",
       "      <th>Quantity</th>\n",
       "      <th>OrderTotal</th>\n",
       "      <th>PartnerName</th>\n",
       "      <th>weekday</th>\n",
       "      <th>period</th>\n",
       "    </tr>\n",
       "  </thead>\n",
       "  <tbody>\n",
       "    <tr>\n",
       "      <th>0</th>\n",
       "      <td>DIARY</td>\n",
       "      <td>Cheese, processed slices</td>\n",
       "      <td>REFRIGERATED</td>\n",
       "      <td>105</td>\n",
       "      <td>2000</td>\n",
       "      <td>FoodieLand</td>\n",
       "      <td>Monday</td>\n",
       "      <td>45.0</td>\n",
       "    </tr>\n",
       "    <tr>\n",
       "      <th>1</th>\n",
       "      <td>DIARY</td>\n",
       "      <td>Cheese, processed slices</td>\n",
       "      <td>REFRIGERATED</td>\n",
       "      <td>105</td>\n",
       "      <td>2000</td>\n",
       "      <td>LoMarket</td>\n",
       "      <td>Monday</td>\n",
       "      <td>45.0</td>\n",
       "    </tr>\n",
       "    <tr>\n",
       "      <th>2</th>\n",
       "      <td>DIARY</td>\n",
       "      <td>Cheese, processed slices</td>\n",
       "      <td>REFRIGERATED</td>\n",
       "      <td>105</td>\n",
       "      <td>2000</td>\n",
       "      <td>Grocertown</td>\n",
       "      <td>Monday</td>\n",
       "      <td>45.0</td>\n",
       "    </tr>\n",
       "    <tr>\n",
       "      <th>3</th>\n",
       "      <td>DIARY</td>\n",
       "      <td>Eggs, in shell</td>\n",
       "      <td>REFRIGERATED</td>\n",
       "      <td>120</td>\n",
       "      <td>2000</td>\n",
       "      <td>FoodieLand</td>\n",
       "      <td>Monday</td>\n",
       "      <td>28.0</td>\n",
       "    </tr>\n",
       "    <tr>\n",
       "      <th>4</th>\n",
       "      <td>DIARY</td>\n",
       "      <td>Eggs, in shell</td>\n",
       "      <td>REFRIGERATED</td>\n",
       "      <td>120</td>\n",
       "      <td>2000</td>\n",
       "      <td>LoMarket</td>\n",
       "      <td>Monday</td>\n",
       "      <td>28.0</td>\n",
       "    </tr>\n",
       "  </tbody>\n",
       "</table>\n",
       "</div>"
      ],
      "text/plain": [
       "  ProductType               ProductItem ProductStorage  Quantity  OrderTotal  \\\n",
       "0       DIARY  Cheese, processed slices   REFRIGERATED       105        2000   \n",
       "1       DIARY  Cheese, processed slices   REFRIGERATED       105        2000   \n",
       "2       DIARY  Cheese, processed slices   REFRIGERATED       105        2000   \n",
       "3       DIARY            Eggs, in shell   REFRIGERATED       120        2000   \n",
       "4       DIARY            Eggs, in shell   REFRIGERATED       120        2000   \n",
       "\n",
       "  PartnerName weekday  period  \n",
       "0  FoodieLand  Monday    45.0  \n",
       "1    LoMarket  Monday    45.0  \n",
       "2  Grocertown  Monday    45.0  \n",
       "3  FoodieLand  Monday    28.0  \n",
       "4    LoMarket  Monday    28.0  "
      ]
     },
     "execution_count": 46,
     "metadata": {},
     "output_type": "execute_result"
    }
   ],
   "source": [
    "df_merged_donations.head()"
   ]
  },
  {
   "cell_type": "markdown",
   "metadata": {},
   "source": [
    "# Pandas Profiling"
   ]
  },
  {
   "cell_type": "code",
   "execution_count": 47,
   "metadata": {},
   "outputs": [],
   "source": [
    "import pandas_profiling\n",
    "from pandas_profiling import ProfileReport"
   ]
  },
  {
   "cell_type": "code",
   "execution_count": 48,
   "id": "151cca67",
   "metadata": {
    "scrolled": false
   },
   "outputs": [
    {
     "data": {
      "application/vnd.jupyter.widget-view+json": {
       "model_id": "3ee7e4700c7e4257aeab50683f625029",
       "version_major": 2,
       "version_minor": 0
      },
      "text/plain": [
       "Summarize dataset:   0%|          | 0/5 [00:00<?, ?it/s]"
      ]
     },
     "metadata": {},
     "output_type": "display_data"
    },
    {
     "data": {
      "application/vnd.jupyter.widget-view+json": {
       "model_id": "701ed1223f614b59b42b0d6c41c7e1ef",
       "version_major": 2,
       "version_minor": 0
      },
      "text/plain": [
       "Generate report structure:   0%|          | 0/1 [00:00<?, ?it/s]"
      ]
     },
     "metadata": {},
     "output_type": "display_data"
    },
    {
     "data": {
      "application/vnd.jupyter.widget-view+json": {
       "model_id": "66efa2e153904b8a9c2556c5b980c279",
       "version_major": 2,
       "version_minor": 0
      },
      "text/plain": [
       "Render HTML:   0%|          | 0/1 [00:00<?, ?it/s]"
      ]
     },
     "metadata": {},
     "output_type": "display_data"
    },
    {
     "data": {
      "application/vnd.jupyter.widget-view+json": {
       "model_id": "a6dc391757124d49bfce484ff5ab8f86",
       "version_major": 2,
       "version_minor": 0
      },
      "text/plain": [
       "Export report to file:   0%|          | 0/1 [00:00<?, ?it/s]"
      ]
     },
     "metadata": {},
     "output_type": "display_data"
    }
   ],
   "source": [
    "# prof = ProfileReport(df)\n",
    "# prof.to_file(output_file='output.html')\n",
    "\n",
    "\n",
    "\n",
    "\n",
    "\n",
    "# #We only use the first 10000 data points\n",
    "# prof = ProfileReport(df.sample(n=10000))\n",
    "# prof.to_file(output_file='output.html')\n",
    "\n",
    "\n",
    "\n",
    "# pandas_profiling.version.__version__\n",
    "\n",
    "\n",
    "from pandas_profiling import ProfileReport\n",
    "profile = ProfileReport(df_merged_donations, minimal=True)\n",
    "profile.to_file(output_file=\"output_min.html\")"
   ]
  },
  {
   "cell_type": "code",
   "execution_count": 49,
   "metadata": {},
   "outputs": [],
   "source": [
    "df_merged_donations = df_merged_donations.drop(['ProductItem','OrderTotal'],axis = 1)"
   ]
  },
  {
   "cell_type": "code",
   "execution_count": 50,
   "metadata": {},
   "outputs": [],
   "source": [
    "df_merged_donations = df_merged_donations.dropna()"
   ]
  },
  {
   "cell_type": "code",
   "execution_count": 51,
   "metadata": {},
   "outputs": [
    {
     "data": {
      "text/plain": [
       "(23733, 6)"
      ]
     },
     "execution_count": 51,
     "metadata": {},
     "output_type": "execute_result"
    }
   ],
   "source": [
    "df_merged_donations.shape"
   ]
  },
  {
   "cell_type": "markdown",
   "id": "d18951a6",
   "metadata": {},
   "source": [
    "# standardization"
   ]
  },
  {
   "cell_type": "code",
   "execution_count": 52,
   "id": "b8b30870",
   "metadata": {},
   "outputs": [],
   "source": [
    "# df1 = df_merged_donations.select_dtypes(include = np.number)\n",
    "# df2 = df_merged_donations.select_dtypes(exclude = np.number)"
   ]
  },
  {
   "cell_type": "code",
   "execution_count": 53,
   "id": "38fb1982",
   "metadata": {},
   "outputs": [],
   "source": [
    "# col = df1.columns"
   ]
  },
  {
   "cell_type": "code",
   "execution_count": 54,
   "metadata": {},
   "outputs": [],
   "source": [
    "# from sklearn.preprocessing import StandardScaler"
   ]
  },
  {
   "cell_type": "code",
   "execution_count": 55,
   "id": "1798f5df",
   "metadata": {},
   "outputs": [],
   "source": [
    "# scale = StandardScaler()\n",
    "# df1 = scale.fit_transform(df1)"
   ]
  },
  {
   "cell_type": "code",
   "execution_count": 56,
   "id": "593b914f",
   "metadata": {},
   "outputs": [],
   "source": [
    "# df1 = pd.DataFrame(df1, columns= col)"
   ]
  },
  {
   "cell_type": "code",
   "execution_count": 57,
   "metadata": {},
   "outputs": [],
   "source": [
    "# df1.reset_index(drop = True)\n",
    "# df2.reset_index(drop = True)"
   ]
  },
  {
   "cell_type": "code",
   "execution_count": 58,
   "metadata": {},
   "outputs": [],
   "source": [
    "# df_merged_donations = pd.concat([df1.reset_index(drop=True), df2.reset_index(drop=True)], axis= 1)"
   ]
  },
  {
   "cell_type": "markdown",
   "metadata": {},
   "source": [
    "# clustering"
   ]
  },
  {
   "cell_type": "code",
   "execution_count": 59,
   "id": "edbfb2ee",
   "metadata": {},
   "outputs": [],
   "source": [
    "categorical_features_idx = list(df_merged_donations.columns.get_indexer(df_merged_donations.select_dtypes(include ='object').columns))"
   ]
  },
  {
   "cell_type": "code",
   "execution_count": 60,
   "id": "2284d2be",
   "metadata": {},
   "outputs": [],
   "source": [
    "mark_array=df_merged_donations.values"
   ]
  },
  {
   "cell_type": "code",
   "execution_count": 61,
   "id": "3093ee1c",
   "metadata": {
    "scrolled": true
   },
   "outputs": [],
   "source": [
    "from kmodes.kprototypes import KPrototypes\n",
    "kproto = KPrototypes(n_clusters=3, verbose=0, max_iter=20).fit(mark_array, categorical=categorical_features_idx)"
   ]
  },
  {
   "cell_type": "code",
   "execution_count": 62,
   "id": "f8b3d1b4",
   "metadata": {},
   "outputs": [],
   "source": [
    "# Prediction\n",
    "clusters = kproto.predict(mark_array, categorical=categorical_features_idx)"
   ]
  },
  {
   "cell_type": "code",
   "execution_count": 63,
   "id": "4c148801",
   "metadata": {},
   "outputs": [],
   "source": [
    "df_merged_donations['cluster'] = list(clusters)"
   ]
  },
  {
   "cell_type": "code",
   "execution_count": 64,
   "id": "22477fde",
   "metadata": {},
   "outputs": [],
   "source": [
    "import seaborn as sns\n",
    "import matplotlib.pyplot as plt"
   ]
  },
  {
   "cell_type": "code",
   "execution_count": 65,
   "id": "58c98248",
   "metadata": {
    "scrolled": true
   },
   "outputs": [
    {
     "data": {
      "image/png": "[encoded data removed]",
      "text/plain": [
       "<Figure size 648x216 with 3 Axes>"
      ]
     },
     "metadata": {
      "needs_background": "light"
     },
     "output_type": "display_data"
    },
    {
     "data": {
      "image/png": "[encoded data removed]",
      "text/plain": [
       "<Figure size 648x216 with 3 Axes>"
      ]
     },
     "metadata": {
      "needs_background": "light"
     },
     "output_type": "display_data"
    },
    {
     "data": {
      "image/png": "[encoded data removed]",
      "text/plain": [
       "<Figure size 648x216 with 3 Axes>"
      ]
     },
     "metadata": {
      "needs_background": "light"
     },
     "output_type": "display_data"
    },
    {
     "data": {
      "image/png": "[encoded data removed]",
      "text/plain": [
       "<Figure size 648x216 with 3 Axes>"
      ]
     },
     "metadata": {
      "needs_background": "light"
     },
     "output_type": "display_data"
    },
    {
     "data": {
      "image/png": "[encoded data removed]",
      "text/plain": [
       "<Figure size 648x216 with 3 Axes>"
      ]
     },
     "metadata": {
      "needs_background": "light"
     },
     "output_type": "display_data"
    },
    {
     "data": {
      "image/png": "[encoded data removed]",
      "text/plain": [
       "<Figure size 648x216 with 3 Axes>"
      ]
     },
     "metadata": {
      "needs_background": "light"
     },
     "output_type": "display_data"
    },
    {
     "data": {
      "image/png": "[encoded data removed]",
      "text/plain": [
       "<Figure size 648x216 with 3 Axes>"
      ]
     },
     "metadata": {
      "needs_background": "light"
     },
     "output_type": "display_data"
    }
   ],
   "source": [
    "%matplotlib inline\n",
    "for c in df_merged_donations:\n",
    "    grid= sns.FacetGrid(df_merged_donations, col='cluster')\n",
    "    grid.map(plt.hist, c)\n",
    "    grid.set_xticklabels(rotation=90)"
   ]
  },
  {
   "cell_type": "markdown",
   "metadata": {},
   "source": [
    "# df_merged_requests"
   ]
  },
  {
   "cell_type": "code",
   "execution_count": 66,
   "metadata": {},
   "outputs": [
    {
     "data": {
      "text/html": [
       "<div>\n",
       "<style scoped>\n",
       "    .dataframe tbody tr th:only-of-type {\n",
       "        vertical-align: middle;\n",
       "    }\n",
       "\n",
       "    .dataframe tbody tr th {\n",
       "        vertical-align: top;\n",
       "    }\n",
       "\n",
       "    .dataframe thead th {\n",
       "        text-align: right;\n",
       "    }\n",
       "</style>\n",
       "<table border=\"1\" class=\"dataframe\">\n",
       "  <thead>\n",
       "    <tr style=\"text-align: right;\">\n",
       "      <th></th>\n",
       "      <th>OrderId</th>\n",
       "      <th>OrderItemId</th>\n",
       "      <th>ProductType</th>\n",
       "      <th>ProductItem</th>\n",
       "      <th>ProductPeriod</th>\n",
       "      <th>ProductDetails</th>\n",
       "      <th>ProductStorage</th>\n",
       "      <th>CustomerId</th>\n",
       "      <th>OrderTotal</th>\n",
       "      <th>OrderDate</th>\n",
       "      <th>Location</th>\n",
       "      <th>CustomerName</th>\n",
       "      <th>CustomerGeoLat</th>\n",
       "      <th>CustomerGeoLon</th>\n",
       "    </tr>\n",
       "  </thead>\n",
       "  <tbody>\n",
       "    <tr>\n",
       "      <th>0</th>\n",
       "      <td>50050</td>\n",
       "      <td>1</td>\n",
       "      <td>DIARY</td>\n",
       "      <td>Eggs, in shell</td>\n",
       "      <td>NaN</td>\n",
       "      <td>Do not freeze</td>\n",
       "      <td>FROZEN</td>\n",
       "      <td>90050</td>\n",
       "      <td>200</td>\n",
       "      <td>2021-01-10</td>\n",
       "      <td>AGA North</td>\n",
       "      <td>Mark Burton</td>\n",
       "      <td>-27.54249</td>\n",
       "      <td>153.09159</td>\n",
       "    </tr>\n",
       "    <tr>\n",
       "      <th>1</th>\n",
       "      <td>50050</td>\n",
       "      <td>1</td>\n",
       "      <td>DIARY</td>\n",
       "      <td>Eggs, in shell</td>\n",
       "      <td>NaN</td>\n",
       "      <td>Do not freeze</td>\n",
       "      <td>FROZEN</td>\n",
       "      <td>90051</td>\n",
       "      <td>200</td>\n",
       "      <td>2021-01-10</td>\n",
       "      <td>AGA East</td>\n",
       "      <td>Matthew Melendez</td>\n",
       "      <td>-27.41269</td>\n",
       "      <td>153.07349</td>\n",
       "    </tr>\n",
       "    <tr>\n",
       "      <th>2</th>\n",
       "      <td>50050</td>\n",
       "      <td>1</td>\n",
       "      <td>DIARY</td>\n",
       "      <td>Eggs, in shell</td>\n",
       "      <td>NaN</td>\n",
       "      <td>Do not freeze</td>\n",
       "      <td>FROZEN</td>\n",
       "      <td>90052</td>\n",
       "      <td>200</td>\n",
       "      <td>2021-01-14</td>\n",
       "      <td>AGA South</td>\n",
       "      <td>Steven Hicks</td>\n",
       "      <td>-27.53449</td>\n",
       "      <td>153.01259</td>\n",
       "    </tr>\n",
       "    <tr>\n",
       "      <th>3</th>\n",
       "      <td>50050</td>\n",
       "      <td>1</td>\n",
       "      <td>DIARY</td>\n",
       "      <td>Eggs, in shell</td>\n",
       "      <td>NaN</td>\n",
       "      <td>Do not freeze</td>\n",
       "      <td>FROZEN</td>\n",
       "      <td>90053</td>\n",
       "      <td>200</td>\n",
       "      <td>2021-01-10</td>\n",
       "      <td>AGA West</td>\n",
       "      <td>Joseph Smith</td>\n",
       "      <td>-27.47359</td>\n",
       "      <td>153.03659</td>\n",
       "    </tr>\n",
       "    <tr>\n",
       "      <th>4</th>\n",
       "      <td>50050</td>\n",
       "      <td>1</td>\n",
       "      <td>DIARY</td>\n",
       "      <td>Eggs, in shell</td>\n",
       "      <td>NaN</td>\n",
       "      <td>Do not freeze</td>\n",
       "      <td>FROZEN</td>\n",
       "      <td>90054</td>\n",
       "      <td>200</td>\n",
       "      <td>2021-01-10</td>\n",
       "      <td>AGA North</td>\n",
       "      <td>Amanda Rodriguez</td>\n",
       "      <td>-27.45979</td>\n",
       "      <td>152.97019</td>\n",
       "    </tr>\n",
       "    <tr>\n",
       "      <th>...</th>\n",
       "      <td>...</td>\n",
       "      <td>...</td>\n",
       "      <td>...</td>\n",
       "      <td>...</td>\n",
       "      <td>...</td>\n",
       "      <td>...</td>\n",
       "      <td>...</td>\n",
       "      <td>...</td>\n",
       "      <td>...</td>\n",
       "      <td>...</td>\n",
       "      <td>...</td>\n",
       "      <td>...</td>\n",
       "      <td>...</td>\n",
       "      <td>...</td>\n",
       "    </tr>\n",
       "    <tr>\n",
       "      <th>97470</th>\n",
       "      <td>50077</td>\n",
       "      <td>14</td>\n",
       "      <td>SHELF_ITEM</td>\n",
       "      <td>Soda such as carbonated cola drinks, mixers: d...</td>\n",
       "      <td>2-3 days</td>\n",
       "      <td>opened</td>\n",
       "      <td>REFRIGERATED</td>\n",
       "      <td>90060</td>\n",
       "      <td>200</td>\n",
       "      <td>2021-04-02</td>\n",
       "      <td>AGA HQ</td>\n",
       "      <td>Curtis White</td>\n",
       "      <td>-27.42379</td>\n",
       "      <td>153.09029</td>\n",
       "    </tr>\n",
       "    <tr>\n",
       "      <th>97471</th>\n",
       "      <td>50077</td>\n",
       "      <td>15</td>\n",
       "      <td>VEGETABLES</td>\n",
       "      <td>Parsley, cilantro</td>\n",
       "      <td>1-2 months</td>\n",
       "      <td>NaN</td>\n",
       "      <td>FROZEN</td>\n",
       "      <td>90060</td>\n",
       "      <td>200</td>\n",
       "      <td>2021-04-02</td>\n",
       "      <td>AGA HQ</td>\n",
       "      <td>Curtis White</td>\n",
       "      <td>-27.42379</td>\n",
       "      <td>153.09029</td>\n",
       "    </tr>\n",
       "    <tr>\n",
       "      <th>97472</th>\n",
       "      <td>50077</td>\n",
       "      <td>16</td>\n",
       "      <td>DIARY</td>\n",
       "      <td>Eggnog, commercial</td>\n",
       "      <td>3-5 days</td>\n",
       "      <td>NaN</td>\n",
       "      <td>REFRIGERATED</td>\n",
       "      <td>90060</td>\n",
       "      <td>200</td>\n",
       "      <td>2021-04-02</td>\n",
       "      <td>AGA HQ</td>\n",
       "      <td>Curtis White</td>\n",
       "      <td>-27.42379</td>\n",
       "      <td>153.09029</td>\n",
       "    </tr>\n",
       "    <tr>\n",
       "      <th>97473</th>\n",
       "      <td>50077</td>\n",
       "      <td>17</td>\n",
       "      <td>DIARY</td>\n",
       "      <td>Margarine</td>\n",
       "      <td>12 months</td>\n",
       "      <td>NaN</td>\n",
       "      <td>FROZEN</td>\n",
       "      <td>90060</td>\n",
       "      <td>200</td>\n",
       "      <td>2021-04-02</td>\n",
       "      <td>AGA HQ</td>\n",
       "      <td>Curtis White</td>\n",
       "      <td>-27.42379</td>\n",
       "      <td>153.09029</td>\n",
       "    </tr>\n",
       "    <tr>\n",
       "      <th>97474</th>\n",
       "      <td>50077</td>\n",
       "      <td>18</td>\n",
       "      <td>SHELF_ITEM</td>\n",
       "      <td>Soda such as carbonated cola drinks, mixers: r...</td>\n",
       "      <td>9 mos. after date</td>\n",
       "      <td>unopened</td>\n",
       "      <td>SHELF</td>\n",
       "      <td>90060</td>\n",
       "      <td>200</td>\n",
       "      <td>2021-04-02</td>\n",
       "      <td>AGA HQ</td>\n",
       "      <td>Curtis White</td>\n",
       "      <td>-27.42379</td>\n",
       "      <td>153.09029</td>\n",
       "    </tr>\n",
       "  </tbody>\n",
       "</table>\n",
       "<p>97475 rows × 14 columns</p>\n",
       "</div>"
      ],
      "text/plain": [
       "       OrderId  OrderItemId ProductType  \\\n",
       "0        50050            1       DIARY   \n",
       "1        50050            1       DIARY   \n",
       "2        50050            1       DIARY   \n",
       "3        50050            1       DIARY   \n",
       "4        50050            1       DIARY   \n",
       "...        ...          ...         ...   \n",
       "97470    50077           14  SHELF_ITEM   \n",
       "97471    50077           15  VEGETABLES   \n",
       "97472    50077           16       DIARY   \n",
       "97473    50077           17       DIARY   \n",
       "97474    50077           18  SHELF_ITEM   \n",
       "\n",
       "                                             ProductItem      ProductPeriod  \\\n",
       "0                                         Eggs, in shell                NaN   \n",
       "1                                         Eggs, in shell                NaN   \n",
       "2                                         Eggs, in shell                NaN   \n",
       "3                                         Eggs, in shell                NaN   \n",
       "4                                         Eggs, in shell                NaN   \n",
       "...                                                  ...                ...   \n",
       "97470  Soda such as carbonated cola drinks, mixers: d...           2-3 days   \n",
       "97471                                  Parsley, cilantro         1-2 months   \n",
       "97472                                 Eggnog, commercial           3-5 days   \n",
       "97473                                          Margarine          12 months   \n",
       "97474  Soda such as carbonated cola drinks, mixers: r...  9 mos. after date   \n",
       "\n",
       "      ProductDetails ProductStorage  CustomerId  OrderTotal   OrderDate  \\\n",
       "0      Do not freeze         FROZEN       90050         200  2021-01-10   \n",
       "1      Do not freeze         FROZEN       90051         200  2021-01-10   \n",
       "2      Do not freeze         FROZEN       90052         200  2021-01-14   \n",
       "3      Do not freeze         FROZEN       90053         200  2021-01-10   \n",
       "4      Do not freeze         FROZEN       90054         200  2021-01-10   \n",
       "...              ...            ...         ...         ...         ...   \n",
       "97470         opened   REFRIGERATED       90060         200  2021-04-02   \n",
       "97471            NaN         FROZEN       90060         200  2021-04-02   \n",
       "97472            NaN   REFRIGERATED       90060         200  2021-04-02   \n",
       "97473            NaN         FROZEN       90060         200  2021-04-02   \n",
       "97474       unopened          SHELF       90060         200  2021-04-02   \n",
       "\n",
       "        Location      CustomerName  CustomerGeoLat  CustomerGeoLon  \n",
       "0      AGA North       Mark Burton       -27.54249       153.09159  \n",
       "1       AGA East  Matthew Melendez       -27.41269       153.07349  \n",
       "2      AGA South      Steven Hicks       -27.53449       153.01259  \n",
       "3       AGA West      Joseph Smith       -27.47359       153.03659  \n",
       "4      AGA North  Amanda Rodriguez       -27.45979       152.97019  \n",
       "...          ...               ...             ...             ...  \n",
       "97470     AGA HQ      Curtis White       -27.42379       153.09029  \n",
       "97471     AGA HQ      Curtis White       -27.42379       153.09029  \n",
       "97472     AGA HQ      Curtis White       -27.42379       153.09029  \n",
       "97473     AGA HQ      Curtis White       -27.42379       153.09029  \n",
       "97474     AGA HQ      Curtis White       -27.42379       153.09029  \n",
       "\n",
       "[97475 rows x 14 columns]"
      ]
     },
     "execution_count": 66,
     "metadata": {},
     "output_type": "execute_result"
    }
   ],
   "source": [
    "df_merged_requests"
   ]
  },
  {
   "cell_type": "code",
   "execution_count": 67,
   "metadata": {},
   "outputs": [],
   "source": [
    "df_merged_requests = df_merged_requests.dropna()"
   ]
  },
  {
   "cell_type": "code",
   "execution_count": 68,
   "metadata": {},
   "outputs": [],
   "source": [
    "df_merged_requests['OrderDate']= pd.to_datetime(df_merged_requests['OrderDate'])"
   ]
  },
  {
   "cell_type": "code",
   "execution_count": 69,
   "metadata": {},
   "outputs": [],
   "source": [
    "# extracting day from date"
   ]
  },
  {
   "cell_type": "code",
   "execution_count": 70,
   "metadata": {},
   "outputs": [],
   "source": [
    "import datetime\n",
    "df_merged_requests['weekday'] = pd.Series(df_merged_requests.OrderDate).dt.day_name()"
   ]
  },
  {
   "cell_type": "code",
   "execution_count": 71,
   "metadata": {},
   "outputs": [
    {
     "name": "stdout",
     "output_type": "stream",
     "text": [
      "<class 'pandas.core.frame.DataFrame'>\n",
      "Int64Index: 39106 entries, 20 to 97474\n",
      "Data columns (total 15 columns):\n",
      " #   Column          Non-Null Count  Dtype         \n",
      "---  ------          --------------  -----         \n",
      " 0   OrderId         39106 non-null  int64         \n",
      " 1   OrderItemId     39106 non-null  int64         \n",
      " 2   ProductType     39106 non-null  object        \n",
      " 3   ProductItem     39106 non-null  object        \n",
      " 4   ProductPeriod   39106 non-null  object        \n",
      " 5   ProductDetails  39106 non-null  object        \n",
      " 6   ProductStorage  39106 non-null  object        \n",
      " 7   CustomerId      39106 non-null  int64         \n",
      " 8   OrderTotal      39106 non-null  int64         \n",
      " 9   OrderDate       39106 non-null  datetime64[ns]\n",
      " 10  Location        39106 non-null  object        \n",
      " 11  CustomerName    39106 non-null  object        \n",
      " 12  CustomerGeoLat  39106 non-null  float64       \n",
      " 13  CustomerGeoLon  39106 non-null  float64       \n",
      " 14  weekday         39106 non-null  object        \n",
      "dtypes: datetime64[ns](1), float64(2), int64(4), object(8)\n",
      "memory usage: 4.8+ MB\n"
     ]
    }
   ],
   "source": [
    "df_merged_requests.info()"
   ]
  },
  {
   "cell_type": "code",
   "execution_count": 72,
   "metadata": {},
   "outputs": [
    {
     "data": {
      "text/plain": [
       "array(['Sunday', 'Thursday', 'Monday', 'Tuesday', 'Wednesday', 'Friday',\n",
       "       'Saturday'], dtype=object)"
      ]
     },
     "execution_count": 72,
     "metadata": {},
     "output_type": "execute_result"
    }
   ],
   "source": [
    "df_merged_requests.weekday.unique()"
   ]
  },
  {
   "cell_type": "code",
   "execution_count": 73,
   "id": "3ef1f39a",
   "metadata": {
    "scrolled": false
   },
   "outputs": [
    {
     "data": {
      "text/html": [
       "<div>\n",
       "<style scoped>\n",
       "    .dataframe tbody tr th:only-of-type {\n",
       "        vertical-align: middle;\n",
       "    }\n",
       "\n",
       "    .dataframe tbody tr th {\n",
       "        vertical-align: top;\n",
       "    }\n",
       "\n",
       "    .dataframe thead th {\n",
       "        text-align: right;\n",
       "    }\n",
       "</style>\n",
       "<table border=\"1\" class=\"dataframe\">\n",
       "  <thead>\n",
       "    <tr style=\"text-align: right;\">\n",
       "      <th></th>\n",
       "      <th>OrderId</th>\n",
       "      <th>OrderItemId</th>\n",
       "      <th>ProductType</th>\n",
       "      <th>ProductItem</th>\n",
       "      <th>ProductPeriod</th>\n",
       "      <th>ProductDetails</th>\n",
       "      <th>ProductStorage</th>\n",
       "      <th>CustomerId</th>\n",
       "      <th>OrderTotal</th>\n",
       "      <th>OrderDate</th>\n",
       "      <th>Location</th>\n",
       "      <th>CustomerName</th>\n",
       "      <th>CustomerGeoLat</th>\n",
       "      <th>CustomerGeoLon</th>\n",
       "      <th>weekday</th>\n",
       "    </tr>\n",
       "  </thead>\n",
       "  <tbody>\n",
       "    <tr>\n",
       "      <th>20</th>\n",
       "      <td>50050</td>\n",
       "      <td>2</td>\n",
       "      <td>SHELF_ITEM</td>\n",
       "      <td>Tea, bags</td>\n",
       "      <td>18 months</td>\n",
       "      <td>unopened</td>\n",
       "      <td>SHELF</td>\n",
       "      <td>90050</td>\n",
       "      <td>200</td>\n",
       "      <td>2021-01-10</td>\n",
       "      <td>AGA North</td>\n",
       "      <td>Mark Burton</td>\n",
       "      <td>-27.54249</td>\n",
       "      <td>153.09159</td>\n",
       "      <td>Sunday</td>\n",
       "    </tr>\n",
       "    <tr>\n",
       "      <th>21</th>\n",
       "      <td>50050</td>\n",
       "      <td>2</td>\n",
       "      <td>SHELF_ITEM</td>\n",
       "      <td>Tea, bags</td>\n",
       "      <td>18 months</td>\n",
       "      <td>unopened</td>\n",
       "      <td>SHELF</td>\n",
       "      <td>90051</td>\n",
       "      <td>200</td>\n",
       "      <td>2021-01-10</td>\n",
       "      <td>AGA East</td>\n",
       "      <td>Matthew Melendez</td>\n",
       "      <td>-27.41269</td>\n",
       "      <td>153.07349</td>\n",
       "      <td>Sunday</td>\n",
       "    </tr>\n",
       "  </tbody>\n",
       "</table>\n",
       "</div>"
      ],
      "text/plain": [
       "    OrderId  OrderItemId ProductType ProductItem ProductPeriod ProductDetails  \\\n",
       "20    50050            2  SHELF_ITEM   Tea, bags     18 months       unopened   \n",
       "21    50050            2  SHELF_ITEM   Tea, bags     18 months       unopened   \n",
       "\n",
       "   ProductStorage  CustomerId  OrderTotal  OrderDate   Location  \\\n",
       "20          SHELF       90050         200 2021-01-10  AGA North   \n",
       "21          SHELF       90051         200 2021-01-10   AGA East   \n",
       "\n",
       "        CustomerName  CustomerGeoLat  CustomerGeoLon weekday  \n",
       "20       Mark Burton       -27.54249       153.09159  Sunday  \n",
       "21  Matthew Melendez       -27.41269       153.07349  Sunday  "
      ]
     },
     "execution_count": 73,
     "metadata": {},
     "output_type": "execute_result"
    }
   ],
   "source": [
    "df_merged_requests.head(2)"
   ]
  },
  {
   "cell_type": "code",
   "execution_count": 74,
   "id": "45ab28bb",
   "metadata": {},
   "outputs": [
    {
     "data": {
      "text/plain": [
       "(39106, 15)"
      ]
     },
     "execution_count": 74,
     "metadata": {},
     "output_type": "execute_result"
    }
   ],
   "source": [
    "df_merged_requests.shape"
   ]
  },
  {
   "cell_type": "code",
   "execution_count": 75,
   "metadata": {},
   "outputs": [],
   "source": [
    "df_merged_requests['weekday'] = df_merged_requests['weekday'].astype(str)"
   ]
  },
  {
   "cell_type": "code",
   "execution_count": 76,
   "metadata": {},
   "outputs": [],
   "source": [
    "# for i,j in zip(range(len(df_merged_requests.weekday)),df_merged_requests.weekday):\n",
    "#     if j in ['Saturday','Sunday']:\n",
    "#         df_merged_requests.weekday[i] = 'Weekend'\n",
    "#     else:\n",
    "#         df_merged_requests.weekday[i] = 'Weekday'"
   ]
  },
  {
   "cell_type": "code",
   "execution_count": 77,
   "metadata": {},
   "outputs": [
    {
     "data": {
      "text/plain": [
       "Monday       6437\n",
       "Thursday     6035\n",
       "Sunday       5946\n",
       "Saturday     5721\n",
       "Tuesday      5065\n",
       "Friday       5007\n",
       "Wednesday    4895\n",
       "Name: weekday, dtype: int64"
      ]
     },
     "execution_count": 77,
     "metadata": {},
     "output_type": "execute_result"
    }
   ],
   "source": [
    "df_merged_requests.weekday.value_counts()"
   ]
  },
  {
   "cell_type": "markdown",
   "metadata": {},
   "source": [
    "# dropping unnecessary column"
   ]
  },
  {
   "cell_type": "code",
   "execution_count": 78,
   "metadata": {},
   "outputs": [],
   "source": [
    "drop_col= ['OrderId', 'OrderItemId','OrderDate', 'CustomerId','CustomerGeoLat','CustomerGeoLon']"
   ]
  },
  {
   "cell_type": "code",
   "execution_count": 79,
   "id": "54c87d59",
   "metadata": {},
   "outputs": [],
   "source": [
    "df_merged_requests= df_merged_requests.drop(drop_col,axis=1)"
   ]
  },
  {
   "cell_type": "code",
   "execution_count": 80,
   "id": "39d1f413",
   "metadata": {
    "scrolled": false
   },
   "outputs": [
    {
     "data": {
      "text/html": [
       "<div>\n",
       "<style scoped>\n",
       "    .dataframe tbody tr th:only-of-type {\n",
       "        vertical-align: middle;\n",
       "    }\n",
       "\n",
       "    .dataframe tbody tr th {\n",
       "        vertical-align: top;\n",
       "    }\n",
       "\n",
       "    .dataframe thead th {\n",
       "        text-align: right;\n",
       "    }\n",
       "</style>\n",
       "<table border=\"1\" class=\"dataframe\">\n",
       "  <thead>\n",
       "    <tr style=\"text-align: right;\">\n",
       "      <th></th>\n",
       "      <th>ProductType</th>\n",
       "      <th>ProductItem</th>\n",
       "      <th>ProductPeriod</th>\n",
       "      <th>ProductDetails</th>\n",
       "      <th>ProductStorage</th>\n",
       "      <th>OrderTotal</th>\n",
       "      <th>Location</th>\n",
       "      <th>CustomerName</th>\n",
       "      <th>weekday</th>\n",
       "    </tr>\n",
       "  </thead>\n",
       "  <tbody>\n",
       "    <tr>\n",
       "      <th>20</th>\n",
       "      <td>SHELF_ITEM</td>\n",
       "      <td>Tea, bags</td>\n",
       "      <td>18 months</td>\n",
       "      <td>unopened</td>\n",
       "      <td>SHELF</td>\n",
       "      <td>200</td>\n",
       "      <td>AGA North</td>\n",
       "      <td>Mark Burton</td>\n",
       "      <td>Sunday</td>\n",
       "    </tr>\n",
       "    <tr>\n",
       "      <th>21</th>\n",
       "      <td>SHELF_ITEM</td>\n",
       "      <td>Tea, bags</td>\n",
       "      <td>18 months</td>\n",
       "      <td>unopened</td>\n",
       "      <td>SHELF</td>\n",
       "      <td>200</td>\n",
       "      <td>AGA East</td>\n",
       "      <td>Matthew Melendez</td>\n",
       "      <td>Sunday</td>\n",
       "    </tr>\n",
       "    <tr>\n",
       "      <th>22</th>\n",
       "      <td>SHELF_ITEM</td>\n",
       "      <td>Tea, bags</td>\n",
       "      <td>18 months</td>\n",
       "      <td>unopened</td>\n",
       "      <td>SHELF</td>\n",
       "      <td>200</td>\n",
       "      <td>AGA South</td>\n",
       "      <td>Steven Hicks</td>\n",
       "      <td>Thursday</td>\n",
       "    </tr>\n",
       "    <tr>\n",
       "      <th>23</th>\n",
       "      <td>SHELF_ITEM</td>\n",
       "      <td>Tea, bags</td>\n",
       "      <td>18 months</td>\n",
       "      <td>unopened</td>\n",
       "      <td>SHELF</td>\n",
       "      <td>200</td>\n",
       "      <td>AGA West</td>\n",
       "      <td>Joseph Smith</td>\n",
       "      <td>Sunday</td>\n",
       "    </tr>\n",
       "    <tr>\n",
       "      <th>24</th>\n",
       "      <td>SHELF_ITEM</td>\n",
       "      <td>Tea, bags</td>\n",
       "      <td>18 months</td>\n",
       "      <td>unopened</td>\n",
       "      <td>SHELF</td>\n",
       "      <td>200</td>\n",
       "      <td>AGA North</td>\n",
       "      <td>Amanda Rodriguez</td>\n",
       "      <td>Sunday</td>\n",
       "    </tr>\n",
       "  </tbody>\n",
       "</table>\n",
       "</div>"
      ],
      "text/plain": [
       "   ProductType ProductItem ProductPeriod ProductDetails ProductStorage  \\\n",
       "20  SHELF_ITEM   Tea, bags     18 months       unopened          SHELF   \n",
       "21  SHELF_ITEM   Tea, bags     18 months       unopened          SHELF   \n",
       "22  SHELF_ITEM   Tea, bags     18 months       unopened          SHELF   \n",
       "23  SHELF_ITEM   Tea, bags     18 months       unopened          SHELF   \n",
       "24  SHELF_ITEM   Tea, bags     18 months       unopened          SHELF   \n",
       "\n",
       "    OrderTotal   Location      CustomerName   weekday  \n",
       "20         200  AGA North       Mark Burton    Sunday  \n",
       "21         200   AGA East  Matthew Melendez    Sunday  \n",
       "22         200  AGA South      Steven Hicks  Thursday  \n",
       "23         200   AGA West      Joseph Smith    Sunday  \n",
       "24         200  AGA North  Amanda Rodriguez    Sunday  "
      ]
     },
     "execution_count": 80,
     "metadata": {},
     "output_type": "execute_result"
    }
   ],
   "source": [
    "df_merged_requests.head()"
   ]
  },
  {
   "cell_type": "code",
   "execution_count": 81,
   "id": "cd8a6f2d",
   "metadata": {},
   "outputs": [],
   "source": [
    "df_merged_requests= df_merged_requests.dropna(thresh=df_merged_requests.shape[0]*0.7,how='all',axis=1)"
   ]
  },
  {
   "cell_type": "markdown",
   "metadata": {},
   "source": [
    "# converting Productperiod into days"
   ]
  },
  {
   "cell_type": "code",
   "execution_count": 82,
   "metadata": {},
   "outputs": [],
   "source": [
    "def period_conversion(i):\n",
    "    if i!= np.nan:\n",
    "        \n",
    "        if re.search(r'month', str(i)):\n",
    "            a = re.findall(r'\\d+',i)\n",
    "            a = [ int(x) for x in a ]\n",
    "            days = (np.mean(a))*30\n",
    "            return days\n",
    "\n",
    "        elif re.search(r'week', str(i)):\n",
    "            a = re.findall(r'\\d+',i)\n",
    "            a = [ int(x) for x in a ]\n",
    "            days = (np.mean(a))*7\n",
    "            return days\n",
    "\n",
    "        elif re.search(r'day', str(i)):\n",
    "            a = re.findall(r'\\d+',i)\n",
    "            a = [ int(x) for x in a ]\n",
    "            days = (np.mean(a))\n",
    "            return days \n",
    "\n",
    "        elif re.search(r'year', str(i)):\n",
    "            a = re.findall(r'\\d+',i)\n",
    "            a = [ int(x) for x in a ]\n",
    "            days = (np.mean(a))*365\n",
    "            return days \n",
    "        else :\n",
    "            pass"
   ]
  },
  {
   "cell_type": "code",
   "execution_count": 83,
   "metadata": {},
   "outputs": [
    {
     "name": "stdout",
     "output_type": "stream",
     "text": [
      "Requirement already satisfied: regex in /opt/conda/lib/python3.9/site-packages (2021.11.1)\n",
      "Note: you may need to restart the kernel to use updated packages.\n"
     ]
    }
   ],
   "source": [
    "pip install regex"
   ]
  },
  {
   "cell_type": "code",
   "execution_count": 84,
   "metadata": {},
   "outputs": [],
   "source": [
    "import numpy as np\n",
    "import regex as re"
   ]
  },
  {
   "cell_type": "code",
   "execution_count": 85,
   "id": "ed7c883d",
   "metadata": {},
   "outputs": [],
   "source": [
    "df_merged_requests['period'] = df_merged_requests['ProductPeriod'].apply(lambda x : period_conversion(x))"
   ]
  },
  {
   "cell_type": "code",
   "execution_count": 86,
   "metadata": {},
   "outputs": [],
   "source": [
    "df_merged_requests = df_merged_requests.drop('ProductPeriod',axis = 1)"
   ]
  },
  {
   "cell_type": "code",
   "execution_count": 87,
   "metadata": {},
   "outputs": [
    {
     "data": {
      "text/plain": [
       "array(['Sunday', 'Thursday', 'Monday', 'Tuesday', 'Wednesday', 'Friday',\n",
       "       'Saturday'], dtype=object)"
      ]
     },
     "execution_count": 87,
     "metadata": {},
     "output_type": "execute_result"
    }
   ],
   "source": [
    "df_merged_requests.weekday.unique()"
   ]
  },
  {
   "cell_type": "code",
   "execution_count": 88,
   "metadata": {
    "scrolled": true
   },
   "outputs": [
    {
     "data": {
      "text/html": [
       "<div>\n",
       "<style scoped>\n",
       "    .dataframe tbody tr th:only-of-type {\n",
       "        vertical-align: middle;\n",
       "    }\n",
       "\n",
       "    .dataframe tbody tr th {\n",
       "        vertical-align: top;\n",
       "    }\n",
       "\n",
       "    .dataframe thead th {\n",
       "        text-align: right;\n",
       "    }\n",
       "</style>\n",
       "<table border=\"1\" class=\"dataframe\">\n",
       "  <thead>\n",
       "    <tr style=\"text-align: right;\">\n",
       "      <th></th>\n",
       "      <th>ProductType</th>\n",
       "      <th>ProductItem</th>\n",
       "      <th>ProductDetails</th>\n",
       "      <th>ProductStorage</th>\n",
       "      <th>OrderTotal</th>\n",
       "      <th>Location</th>\n",
       "      <th>CustomerName</th>\n",
       "      <th>weekday</th>\n",
       "      <th>period</th>\n",
       "    </tr>\n",
       "  </thead>\n",
       "  <tbody>\n",
       "    <tr>\n",
       "      <th>20</th>\n",
       "      <td>SHELF_ITEM</td>\n",
       "      <td>Tea, bags</td>\n",
       "      <td>unopened</td>\n",
       "      <td>SHELF</td>\n",
       "      <td>200</td>\n",
       "      <td>AGA North</td>\n",
       "      <td>Mark Burton</td>\n",
       "      <td>Sunday</td>\n",
       "      <td>540.0</td>\n",
       "    </tr>\n",
       "    <tr>\n",
       "      <th>21</th>\n",
       "      <td>SHELF_ITEM</td>\n",
       "      <td>Tea, bags</td>\n",
       "      <td>unopened</td>\n",
       "      <td>SHELF</td>\n",
       "      <td>200</td>\n",
       "      <td>AGA East</td>\n",
       "      <td>Matthew Melendez</td>\n",
       "      <td>Sunday</td>\n",
       "      <td>540.0</td>\n",
       "    </tr>\n",
       "    <tr>\n",
       "      <th>22</th>\n",
       "      <td>SHELF_ITEM</td>\n",
       "      <td>Tea, bags</td>\n",
       "      <td>unopened</td>\n",
       "      <td>SHELF</td>\n",
       "      <td>200</td>\n",
       "      <td>AGA South</td>\n",
       "      <td>Steven Hicks</td>\n",
       "      <td>Thursday</td>\n",
       "      <td>540.0</td>\n",
       "    </tr>\n",
       "    <tr>\n",
       "      <th>23</th>\n",
       "      <td>SHELF_ITEM</td>\n",
       "      <td>Tea, bags</td>\n",
       "      <td>unopened</td>\n",
       "      <td>SHELF</td>\n",
       "      <td>200</td>\n",
       "      <td>AGA West</td>\n",
       "      <td>Joseph Smith</td>\n",
       "      <td>Sunday</td>\n",
       "      <td>540.0</td>\n",
       "    </tr>\n",
       "    <tr>\n",
       "      <th>24</th>\n",
       "      <td>SHELF_ITEM</td>\n",
       "      <td>Tea, bags</td>\n",
       "      <td>unopened</td>\n",
       "      <td>SHELF</td>\n",
       "      <td>200</td>\n",
       "      <td>AGA North</td>\n",
       "      <td>Amanda Rodriguez</td>\n",
       "      <td>Sunday</td>\n",
       "      <td>540.0</td>\n",
       "    </tr>\n",
       "  </tbody>\n",
       "</table>\n",
       "</div>"
      ],
      "text/plain": [
       "   ProductType ProductItem ProductDetails ProductStorage  OrderTotal  \\\n",
       "20  SHELF_ITEM   Tea, bags       unopened          SHELF         200   \n",
       "21  SHELF_ITEM   Tea, bags       unopened          SHELF         200   \n",
       "22  SHELF_ITEM   Tea, bags       unopened          SHELF         200   \n",
       "23  SHELF_ITEM   Tea, bags       unopened          SHELF         200   \n",
       "24  SHELF_ITEM   Tea, bags       unopened          SHELF         200   \n",
       "\n",
       "     Location      CustomerName   weekday  period  \n",
       "20  AGA North       Mark Burton    Sunday   540.0  \n",
       "21   AGA East  Matthew Melendez    Sunday   540.0  \n",
       "22  AGA South      Steven Hicks  Thursday   540.0  \n",
       "23   AGA West      Joseph Smith    Sunday   540.0  \n",
       "24  AGA North  Amanda Rodriguez    Sunday   540.0  "
      ]
     },
     "execution_count": 88,
     "metadata": {},
     "output_type": "execute_result"
    }
   ],
   "source": [
    "df_merged_requests.head()"
   ]
  },
  {
   "cell_type": "markdown",
   "metadata": {},
   "source": [
    "# Pandas Profiling"
   ]
  },
  {
   "cell_type": "code",
   "execution_count": 89,
   "metadata": {},
   "outputs": [],
   "source": [
    "import pandas_profiling\n",
    "from pandas_profiling import ProfileReport"
   ]
  },
  {
   "cell_type": "code",
   "execution_count": 90,
   "id": "151cca67",
   "metadata": {
    "scrolled": false
   },
   "outputs": [
    {
     "data": {
      "application/vnd.jupyter.widget-view+json": {
       "model_id": "964811e2752046f6a5ce783767afe911",
       "version_major": 2,
       "version_minor": 0
      },
      "text/plain": [
       "Summarize dataset:   0%|          | 0/5 [00:00<?, ?it/s]"
      ]
     },
     "metadata": {},
     "output_type": "display_data"
    },
    {
     "data": {
      "application/vnd.jupyter.widget-view+json": {
       "model_id": "496b87e9845d40af8ecc0a76f5d5486d",
       "version_major": 2,
       "version_minor": 0
      },
      "text/plain": [
       "Generate report structure:   0%|          | 0/1 [00:00<?, ?it/s]"
      ]
     },
     "metadata": {},
     "output_type": "display_data"
    },
    {
     "data": {
      "application/vnd.jupyter.widget-view+json": {
       "model_id": "83a4d697628244af826a4b528dbae55b",
       "version_major": 2,
       "version_minor": 0
      },
      "text/plain": [
       "Render HTML:   0%|          | 0/1 [00:00<?, ?it/s]"
      ]
     },
     "metadata": {},
     "output_type": "display_data"
    },
    {
     "data": {
      "application/vnd.jupyter.widget-view+json": {
       "model_id": "30cb4b3e639247a4963fdc54f1d9a338",
       "version_major": 2,
       "version_minor": 0
      },
      "text/plain": [
       "Export report to file:   0%|          | 0/1 [00:00<?, ?it/s]"
      ]
     },
     "metadata": {},
     "output_type": "display_data"
    }
   ],
   "source": [
    "# prof = ProfileReport(df)\n",
    "# prof.to_file(output_file='output.html')\n",
    "\n",
    "\n",
    "\n",
    "\n",
    "\n",
    "# #We only use the first 10000 data points\n",
    "# prof = ProfileReport(df.sample(n=10000))\n",
    "# prof.to_file(output_file='output.html')\n",
    "\n",
    "\n",
    "\n",
    "# pandas_profiling.version.__version__\n",
    "\n",
    "\n",
    "from pandas_profiling import ProfileReport\n",
    "profile = ProfileReport(df_merged_requests, minimal=True)\n",
    "profile.to_file(output_file=\"output_min2.html\")"
   ]
  },
  {
   "cell_type": "code",
   "execution_count": 91,
   "metadata": {},
   "outputs": [],
   "source": [
    "df_merged_requests = df_merged_requests.drop(['ProductItem','OrderTotal','CustomerName'],axis = 1)"
   ]
  },
  {
   "cell_type": "code",
   "execution_count": 92,
   "metadata": {},
   "outputs": [],
   "source": [
    "df_merged_requests = df_merged_requests.dropna()"
   ]
  },
  {
   "cell_type": "code",
   "execution_count": 93,
   "metadata": {},
   "outputs": [
    {
     "data": {
      "text/plain": [
       "(35541, 6)"
      ]
     },
     "execution_count": 93,
     "metadata": {},
     "output_type": "execute_result"
    }
   ],
   "source": [
    "df_merged_requests.shape"
   ]
  },
  {
   "cell_type": "markdown",
   "id": "d18951a6",
   "metadata": {},
   "source": [
    "# standardization"
   ]
  },
  {
   "cell_type": "code",
   "execution_count": 94,
   "id": "b8b30870",
   "metadata": {},
   "outputs": [],
   "source": [
    "# df1 = df_merged_requests.select_dtypes(include = np.number)\n",
    "# df2 = df_merged_requests.select_dtypes(exclude = np.number)"
   ]
  },
  {
   "cell_type": "code",
   "execution_count": 95,
   "id": "38fb1982",
   "metadata": {},
   "outputs": [],
   "source": [
    "# col = df1.columns"
   ]
  },
  {
   "cell_type": "code",
   "execution_count": 96,
   "metadata": {},
   "outputs": [],
   "source": [
    "# from sklearn.preprocessing import StandardScaler"
   ]
  },
  {
   "cell_type": "code",
   "execution_count": 97,
   "id": "1798f5df",
   "metadata": {},
   "outputs": [],
   "source": [
    "# scale = StandardScaler()\n",
    "# df1 = scale.fit_transform(df1)"
   ]
  },
  {
   "cell_type": "code",
   "execution_count": 98,
   "id": "593b914f",
   "metadata": {},
   "outputs": [],
   "source": [
    "# df1 = pd.DataFrame(df1, columns= col)"
   ]
  },
  {
   "cell_type": "code",
   "execution_count": 99,
   "metadata": {},
   "outputs": [],
   "source": [
    "# df_merged_requests = pd.concat([df1.reset_index(drop=True), df2.reset_index(drop=True)], axis= 1)"
   ]
  },
  {
   "cell_type": "code",
   "execution_count": 100,
   "id": "edbfb2ee",
   "metadata": {},
   "outputs": [],
   "source": [
    "categorical_features_idx = list(df_merged_requests.columns.get_indexer(df_merged_requests.select_dtypes(include ='object').columns))"
   ]
  },
  {
   "cell_type": "code",
   "execution_count": 101,
   "id": "2284d2be",
   "metadata": {},
   "outputs": [],
   "source": [
    "mark_array=df_merged_requests.values"
   ]
  },
  {
   "cell_type": "code",
   "execution_count": 102,
   "id": "3093ee1c",
   "metadata": {
    "scrolled": true
   },
   "outputs": [],
   "source": [
    "from kmodes.kprototypes import KPrototypes\n",
    "kproto = KPrototypes(n_clusters=3, verbose=0, max_iter=20).fit(mark_array, categorical=categorical_features_idx)"
   ]
  },
  {
   "cell_type": "code",
   "execution_count": 103,
   "id": "f8b3d1b4",
   "metadata": {},
   "outputs": [],
   "source": [
    "# Prediction\n",
    "clusters = kproto.predict(mark_array, categorical=categorical_features_idx)"
   ]
  },
  {
   "cell_type": "code",
   "execution_count": 104,
   "id": "4c148801",
   "metadata": {},
   "outputs": [],
   "source": [
    "df_merged_requests['cluster'] = list(clusters)"
   ]
  },
  {
   "cell_type": "code",
   "execution_count": 105,
   "id": "22477fde",
   "metadata": {},
   "outputs": [],
   "source": [
    "import seaborn as sns\n",
    "import matplotlib.pyplot as plt"
   ]
  },
  {
   "cell_type": "code",
   "execution_count": 106,
   "id": "58c98248",
   "metadata": {
    "scrolled": true
   },
   "outputs": [
    {
     "data": {
      "image/png": "[encoded data removed]",
      "text/plain": [
       "<Figure size 648x216 with 3 Axes>"
      ]
     },
     "metadata": {
      "needs_background": "light"
     },
     "output_type": "display_data"
    },
    {
     "data": {
      "image/png": "[encoded data removed]",
      "text/plain": [
       "<Figure size 648x216 with 3 Axes>"
      ]
     },
     "metadata": {
      "needs_background": "light"
     },
     "output_type": "display_data"
    },
    {
     "data": {
      "image/png": "[encoded data removed]",
      "text/plain": [
       "<Figure size 648x216 with 3 Axes>"
      ]
     },
     "metadata": {
      "needs_background": "light"
     },
     "output_type": "display_data"
    },
    {
     "data": {
      "image/png": "[encoded data removed]",
      "text/plain": [
       "<Figure size 648x216 with 3 Axes>"
      ]
     },
     "metadata": {
      "needs_background": "light"
     },
     "output_type": "display_data"
    },
    {
     "data": {
      "image/png": "[encoded data removed]",
      "text/plain": [
       "<Figure size 648x216 with 3 Axes>"
      ]
     },
     "metadata": {
      "needs_background": "light"
     },
     "output_type": "display_data"
    },
    {
     "data": {
      "image/png": "[encoded data removed]",
      "text/plain": [
       "<Figure size 648x216 with 3 Axes>"
      ]
     },
     "metadata": {
      "needs_background": "light"
     },
     "output_type": "display_data"
    },
    {
     "data": {
      "image/png": "[encoded data removed]",
      "text/plain": [
       "<Figure size 648x216 with 3 Axes>"
      ]
     },
     "metadata": {
      "needs_background": "light"
     },
     "output_type": "display_data"
    }
   ],
   "source": [
    "%matplotlib inline\n",
    "for c in df_merged_requests:\n",
    "    grid= sns.FacetGrid(df_merged_requests, col='cluster')\n",
    "    grid.map(plt.hist, c)\n",
    "    grid.set_xticklabels(rotation=90)"
   ]
  },
  {
   "cell_type": "code",
   "execution_count": 110,
   "metadata": {},
   "outputs": [
    {
     "data": {
      "text/plain": [
       "(35541, 7)"
      ]
     },
     "execution_count": 110,
     "metadata": {},
     "output_type": "execute_result"
    }
   ],
   "source": [
    "df_merged_requests.shape"
   ]
  },
  {
   "cell_type": "code",
   "execution_count": 109,
   "metadata": {},
   "outputs": [
    {
     "data": {
      "text/plain": [
       "(23733, 7)"
      ]
     },
     "execution_count": 109,
     "metadata": {},
     "output_type": "execute_result"
    }
   ],
   "source": [
    "df_merged_donations.shape"
   ]
  },
  {
   "cell_type": "code",
   "execution_count": null,
   "metadata": {},
   "outputs": [],
   "source": []
  }
 ],
 "metadata": {
  "kernelspec": {
   "display_name": "Python 3 (ipykernel)",
   "language": "python",
   "name": "python3"
  },
  "language_info": {
   "codemirror_mode": {
    "name": "ipython",
    "version": 3
   },
   "file_extension": ".py",
   "mimetype": "text/x-python",
   "name": "python",
   "nbconvert_exporter": "python",
   "pygments_lexer": "ipython3",
   "version": "3.9.6"
  }
 },
 "nbformat": 4,
 "nbformat_minor": 4
}
